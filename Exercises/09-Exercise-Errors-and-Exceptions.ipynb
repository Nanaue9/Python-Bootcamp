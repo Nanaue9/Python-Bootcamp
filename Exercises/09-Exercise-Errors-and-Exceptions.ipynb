{
 "cells": [
  {
   "cell_type": "markdown",
   "metadata": {},
   "source": [
    "# Exercise\n",
    "Write a program that asks for users input and if the input is not a valid integer repeats the question until a valid input is provided. Then print the integer input.\n",
    "\n",
    "Hint: You can use a format similar to `x = int(input(\"Please enter a number: \"))`. `int()` function will try to convert the user input (which is a string by default, i.e., even input 1 will be proceeded as '1') to an int. See what kind of error you get by providing bad inputs and use that for your exception (`except`) argument."
   ]
  },
  {
   "cell_type": "code",
   "execution_count": 1,
   "metadata": {},
   "outputs": [
    {
     "name": "stdout",
     "output_type": "stream",
     "text": [
      "Please enter a number: 3.14\n",
      "Oops!  That was no valid number.  Try again...\n",
      "Please enter a number: Hello!\n",
      "Oops!  That was no valid number.  Try again...\n",
      "Please enter a number: 20\n",
      "x: 20\n"
     ]
    }
   ],
   "source": [
    "# Your answer goes here"
   ]
  }
 ],
 "metadata": {
  "kernelspec": {
   "display_name": "Python 3",
   "language": "python",
   "name": "python3"
  },
  "language_info": {
   "codemirror_mode": {
    "name": "ipython",
    "version": 3
   },
   "file_extension": ".py",
   "mimetype": "text/x-python",
   "name": "python",
   "nbconvert_exporter": "python",
   "pygments_lexer": "ipython3",
   "version": "3.7.2"
  }
 },
 "nbformat": 4,
 "nbformat_minor": 2
}
