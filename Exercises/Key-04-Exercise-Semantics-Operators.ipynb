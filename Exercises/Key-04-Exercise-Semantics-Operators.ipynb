{
 "cells": [
  {
   "cell_type": "markdown",
   "metadata": {},
   "source": [
    "# Exercise\n",
    "What is the quotient and remainder of 67432/98?"
   ]
  },
  {
   "cell_type": "code",
   "execution_count": 1,
   "metadata": {},
   "outputs": [
    {
     "name": "stdout",
     "output_type": "stream",
     "text": [
      "Quotient of 67432/98: 688\n",
      "Remainder of 67432/98: 8\n"
     ]
    }
   ],
   "source": [
    "# Your answer goes here\n",
    "quotient = 67432 // 98\n",
    "remainder = 67432 % 98\n",
    "print('Quotient of 67432/98:', quotient)\n",
    "print('Remainder of 67432/98:', remainder)"
   ]
  },
  {
   "cell_type": "markdown",
   "metadata": {},
   "source": [
    "# Exercise \n",
    "Write a statement to check whether `a` is a multiple of 5 and within the range of 100-150 or 0-50. Check your statement with the following values and it should give you the following values:\n",
    "\n",
    "55 --> False\n",
    "\n",
    "110 --> True\n",
    "\n",
    "-25 --> False\n",
    "\n",
    "150 --> False\n",
    "\n",
    "100 --> True"
   ]
  },
  {
   "cell_type": "code",
   "execution_count": 2,
   "metadata": {},
   "outputs": [
    {
     "data": {
      "text/plain": [
       "True"
      ]
     },
     "execution_count": 2,
     "metadata": {},
     "output_type": "execute_result"
    }
   ],
   "source": [
    "# Your answer goes here\n",
    "a = 100\n",
    "(a % 5 == 0) and ((0 <= a < 50) or (100 <= a < 150))"
   ]
  }
 ],
 "metadata": {
  "kernelspec": {
   "display_name": "Python 3",
   "language": "python",
   "name": "python3"
  },
  "language_info": {
   "codemirror_mode": {
    "name": "ipython",
    "version": 3
   },
   "file_extension": ".py",
   "mimetype": "text/x-python",
   "name": "python",
   "nbconvert_exporter": "python",
   "pygments_lexer": "ipython3",
   "version": "3.7.2"
  }
 },
 "nbformat": 4,
 "nbformat_minor": 2
}
