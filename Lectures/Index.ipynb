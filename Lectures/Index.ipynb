{
 "cells": [
  {
   "cell_type": "markdown",
   "metadata": {},
   "source": [
    "# Table of Context"
   ]
  },
  {
   "cell_type": "markdown",
   "metadata": {},
   "source": [
    "<img src=\"fig/cover-large.gif\" width=\"200\"> <img src=\"fig/PDSH-cover.png\" width=\"230\">"
   ]
  },
  {
   "cell_type": "markdown",
   "metadata": {},
   "source": [
    "These are some of the Jupyter Notebooks behind Jake VanderPlas's two books,\n",
    "[*A Whirlwind Tour of Python*](http://www.oreilly.com/programming/free/a-whirlwind-tour-of-python.csp), and [Python Data Science Handbook](http://shop.oreilly.com/product/0636920034919.do).\n",
    "\n",
    "*A Whirlwind Tour of Python* is a fast-paced introduction to essential\n",
    "components of the Python language for researchers and developers who are\n",
    "already familiar with programming in another language.\n",
    "\n",
    "The material is particularly aimed at those who wish to use Python for data \n",
    "science and/or scientific programming, and in this capacity serves as an\n",
    "introduction to *The Python Data Science Handbook*."
   ]
  },
  {
   "cell_type": "markdown",
   "metadata": {},
   "source": [
    "## Index\n",
    "\n",
    "0. [Introduction](00-Introduction.ipynb)\n",
    "1. [How to Run Python Code](01-How-to-Run-Python-Code.ipynb)\n",
    "2. [Basic Python Syntax](02-Basic-Python-Syntax.ipynb)\n",
    "3. [Python Semantics: Variables](03-Semantics-Variables.ipynb)\n",
    "4. [Python Semantics: Operators](04-Semantics-Operators.ipynb)\n",
    "5. [Built-In Scalar Types](05-Built-in-Scalar-Types.ipynb)\n",
    "6. [Built-In Data Structures](06-Built-in-Data-Structures.ipynb)\n",
    "7. [Control Flow Statements](07-Control-Flow-Statements.ipynb)\n",
    "8. [Defining Functions](08-Defining-Functions.ipynb)\n",
    "9. [Errors and Exceptions](09-Errors-and-Exceptions.ipynb)\n",
    "10. [Errors-and-Debugging](10-Errors-and-Debugging.ipynb)\n",
    "11. [Iterators](11-Iterators.ipynb)\n",
    "12. [List Comprehensions](12-List-Comprehensions.ipynb)\n",
    "13. [Generators and Generator Expressions](13-Generators.ipynb)\n",
    "14. [Modules and Packages](14-Modules-and-Packages.ipynb)\n",
    "15. [Strings and Regular Expressions](15-Strings-and-Regular-Expressions.ipynb)\n",
    "16. [Preview of Data Science Tools](16-Preview-of-Data-Science-Tools.ipynb)\n",
    "17. [NumPy](17-NumPy.ipynb)\n",
    "18. [DataFrame](18-DataFrame.ipynb)\n",
    "19. [Missing-Values](19-Missing-Values.ipynb)\n",
    "20. [Data-Import-Export](20-Data-Import-Export.ipynb)\n",
    "* [Resources for Further Learning](Further-Resources.ipynb)"
   ]
  },
  {
   "cell_type": "markdown",
   "metadata": {},
   "source": [
    "## License\n",
    "\n",
    "This material is released under the \"No Rights Reserved\" [CC0](LICENSE)\n",
    "license and [MIT license](LICENSE-CODE).\n",
    "\n",
    "> *A Whirlwind Tour of Python* by Jake VanderPlas (O’Reilly). Copyright 2016 O’Reilly Media, Inc., 978-1-491-96465-1\n",
    "\n",
    "Read more about CC0 [here](https://creativecommons.org/share-your-work/public-domain/cc0/)."
   ]
  }
 ],
 "metadata": {
  "anaconda-cloud": {},
  "kernelspec": {
   "display_name": "Python 3",
   "language": "python",
   "name": "python3"
  },
  "language_info": {
   "codemirror_mode": {
    "name": "ipython",
    "version": 3
   },
   "file_extension": ".py",
   "mimetype": "text/x-python",
   "name": "python",
   "nbconvert_exporter": "python",
   "pygments_lexer": "ipython3",
   "version": "3.7.2"
  }
 },
 "nbformat": 4,
 "nbformat_minor": 2
}
