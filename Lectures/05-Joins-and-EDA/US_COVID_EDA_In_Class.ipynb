{
  "nbformat": 4,
  "nbformat_minor": 0,
  "metadata": {
    "colab": {
      "name": "US-COVID-EDA-In-Class.ipynb",
      "provenance": [],
      "collapsed_sections": []
    },
    "kernelspec": {
      "name": "python3",
      "display_name": "Python 3"
    },
    "language_info": {
      "name": "python"
    }
  },
  "cells": [
    {
      "cell_type": "code",
      "metadata": {
        "id": "J7Px6OEgy7If"
      },
      "source": [
        "import pandas as pd\n",
        "import seaborn as sns\n",
        "import matplotlib.pyplot as plt"
      ],
      "execution_count": 1,
      "outputs": []
    },
    {
      "cell_type": "code",
      "metadata": {
        "id": "pa7wHbCI2Ka5"
      },
      "source": [
        "covid19 = pd.read_csv('https://raw.githubusercontent.com/soltaniehha/datasets/main/US-Covid-Cases.csv')"
      ],
      "execution_count": 8,
      "outputs": []
    },
    {
      "cell_type": "code",
      "metadata": {
        "colab": {
          "base_uri": "https://localhost:8080/",
          "height": 419
        },
        "id": "P28T0XlJ2b_Q",
        "outputId": "e325a2df-3176-4adc-d67a-8d61718fbfc4"
      },
      "source": [
        "covid19"
      ],
      "execution_count": 9,
      "outputs": [
        {
          "output_type": "execute_result",
          "data": {
            "text/html": [
              "<div>\n",
              "<style scoped>\n",
              "    .dataframe tbody tr th:only-of-type {\n",
              "        vertical-align: middle;\n",
              "    }\n",
              "\n",
              "    .dataframe tbody tr th {\n",
              "        vertical-align: top;\n",
              "    }\n",
              "\n",
              "    .dataframe thead th {\n",
              "        text-align: right;\n",
              "    }\n",
              "</style>\n",
              "<table border=\"1\" class=\"dataframe\">\n",
              "  <thead>\n",
              "    <tr style=\"text-align: right;\">\n",
              "      <th></th>\n",
              "      <th>province_state</th>\n",
              "      <th>fips</th>\n",
              "      <th>date</th>\n",
              "      <th>confirmed</th>\n",
              "      <th>deaths</th>\n",
              "    </tr>\n",
              "  </thead>\n",
              "  <tbody>\n",
              "    <tr>\n",
              "      <th>0</th>\n",
              "      <td>Vermont</td>\n",
              "      <td>50001.0</td>\n",
              "      <td>2020-05-07</td>\n",
              "      <td>61</td>\n",
              "      <td>2.0</td>\n",
              "    </tr>\n",
              "    <tr>\n",
              "      <th>1</th>\n",
              "      <td>Maine</td>\n",
              "      <td>23001.0</td>\n",
              "      <td>2020-05-07</td>\n",
              "      <td>74</td>\n",
              "      <td>2.0</td>\n",
              "    </tr>\n",
              "    <tr>\n",
              "      <th>2</th>\n",
              "      <td>Arizona</td>\n",
              "      <td>4001.0</td>\n",
              "      <td>2020-05-07</td>\n",
              "      <td>630</td>\n",
              "      <td>7.0</td>\n",
              "    </tr>\n",
              "    <tr>\n",
              "      <th>3</th>\n",
              "      <td>Massachusetts</td>\n",
              "      <td>25001.0</td>\n",
              "      <td>2020-05-07</td>\n",
              "      <td>1021</td>\n",
              "      <td>57.0</td>\n",
              "    </tr>\n",
              "    <tr>\n",
              "      <th>4</th>\n",
              "      <td>Utah</td>\n",
              "      <td>NaN</td>\n",
              "      <td>2020-05-07</td>\n",
              "      <td>64</td>\n",
              "      <td>1.0</td>\n",
              "    </tr>\n",
              "    <tr>\n",
              "      <th>...</th>\n",
              "      <td>...</td>\n",
              "      <td>...</td>\n",
              "      <td>...</td>\n",
              "      <td>...</td>\n",
              "      <td>...</td>\n",
              "    </tr>\n",
              "    <tr>\n",
              "      <th>1562398</th>\n",
              "      <td>South Carolina</td>\n",
              "      <td>45005.0</td>\n",
              "      <td>2020-04-17</td>\n",
              "      <td>6</td>\n",
              "      <td>0.0</td>\n",
              "    </tr>\n",
              "    <tr>\n",
              "      <th>1562399</th>\n",
              "      <td>South Carolina</td>\n",
              "      <td>45005.0</td>\n",
              "      <td>2020-04-22</td>\n",
              "      <td>6</td>\n",
              "      <td>0.0</td>\n",
              "    </tr>\n",
              "    <tr>\n",
              "      <th>1562400</th>\n",
              "      <td>South Carolina</td>\n",
              "      <td>45005.0</td>\n",
              "      <td>2020-04-19</td>\n",
              "      <td>6</td>\n",
              "      <td>0.0</td>\n",
              "    </tr>\n",
              "    <tr>\n",
              "      <th>1562401</th>\n",
              "      <td>South Carolina</td>\n",
              "      <td>45081.0</td>\n",
              "      <td>2020-04-13</td>\n",
              "      <td>6</td>\n",
              "      <td>0.0</td>\n",
              "    </tr>\n",
              "    <tr>\n",
              "      <th>1562402</th>\n",
              "      <td>South Carolina</td>\n",
              "      <td>45005.0</td>\n",
              "      <td>2020-04-18</td>\n",
              "      <td>6</td>\n",
              "      <td>0.0</td>\n",
              "    </tr>\n",
              "  </tbody>\n",
              "</table>\n",
              "<p>1562403 rows × 5 columns</p>\n",
              "</div>"
            ],
            "text/plain": [
              "         province_state     fips        date  confirmed  deaths\n",
              "0               Vermont  50001.0  2020-05-07         61     2.0\n",
              "1                 Maine  23001.0  2020-05-07         74     2.0\n",
              "2               Arizona   4001.0  2020-05-07        630     7.0\n",
              "3         Massachusetts  25001.0  2020-05-07       1021    57.0\n",
              "4                  Utah      NaN  2020-05-07         64     1.0\n",
              "...                 ...      ...         ...        ...     ...\n",
              "1562398  South Carolina  45005.0  2020-04-17          6     0.0\n",
              "1562399  South Carolina  45005.0  2020-04-22          6     0.0\n",
              "1562400  South Carolina  45005.0  2020-04-19          6     0.0\n",
              "1562401  South Carolina  45081.0  2020-04-13          6     0.0\n",
              "1562402  South Carolina  45005.0  2020-04-18          6     0.0\n",
              "\n",
              "[1562403 rows x 5 columns]"
            ]
          },
          "metadata": {
            "tags": []
          },
          "execution_count": 9
        }
      ]
    },
    {
      "cell_type": "code",
      "metadata": {
        "colab": {
          "base_uri": "https://localhost:8080/"
        },
        "id": "pyU3n_SS2d8x",
        "outputId": "52b3bc57-6c1e-46c9-9fbe-82ce407deada"
      },
      "source": [
        "covid19.info()"
      ],
      "execution_count": 10,
      "outputs": [
        {
          "output_type": "stream",
          "text": [
            "<class 'pandas.core.frame.DataFrame'>\n",
            "RangeIndex: 1562403 entries, 0 to 1562402\n",
            "Data columns (total 5 columns):\n",
            " #   Column          Non-Null Count    Dtype  \n",
            "---  ------          --------------    -----  \n",
            " 0   province_state  1562403 non-null  object \n",
            " 1   fips            1555155 non-null  float64\n",
            " 2   date            1562403 non-null  object \n",
            " 3   confirmed       1562403 non-null  int64  \n",
            " 4   deaths          1562373 non-null  float64\n",
            "dtypes: float64(2), int64(1), object(2)\n",
            "memory usage: 59.6+ MB\n"
          ],
          "name": "stdout"
        }
      ]
    },
    {
      "cell_type": "code",
      "metadata": {
        "id": "2CYTI7TB2nyn"
      },
      "source": [
        "covid19.dropna(subset=['fips'], inplace=True)\n",
        "covid19.date = pd.to_datetime(covid19.date, format='%Y-%m-%d')\n",
        "covid19.fips = covid19.fips.astype(int)\n",
        "covid19.columns = ['state', 'county', 'date', 'confirmed', 'deaths']"
      ],
      "execution_count": 11,
      "outputs": []
    },
    {
      "cell_type": "code",
      "metadata": {
        "colab": {
          "base_uri": "https://localhost:8080/"
        },
        "id": "9Dwi3v1c3zqD",
        "outputId": "93599be5-d9ae-4eb6-8280-ae0cd2a1b232"
      },
      "source": [
        "covid19.info()"
      ],
      "execution_count": 12,
      "outputs": [
        {
          "output_type": "stream",
          "text": [
            "<class 'pandas.core.frame.DataFrame'>\n",
            "Int64Index: 1555155 entries, 0 to 1562402\n",
            "Data columns (total 5 columns):\n",
            " #   Column     Non-Null Count    Dtype         \n",
            "---  ------     --------------    -----         \n",
            " 0   state      1555155 non-null  object        \n",
            " 1   county     1555155 non-null  int64         \n",
            " 2   date       1555155 non-null  datetime64[ns]\n",
            " 3   confirmed  1555155 non-null  int64         \n",
            " 4   deaths     1555155 non-null  float64       \n",
            "dtypes: datetime64[ns](1), float64(1), int64(2), object(1)\n",
            "memory usage: 71.2+ MB\n"
          ],
          "name": "stdout"
        }
      ]
    },
    {
      "cell_type": "code",
      "metadata": {
        "colab": {
          "base_uri": "https://localhost:8080/",
          "height": 111
        },
        "id": "O00Sfi8E308t",
        "outputId": "ba0cad1e-7bb7-402b-bdf4-2825a96d11fc"
      },
      "source": [
        "covid19.head(2)"
      ],
      "execution_count": 13,
      "outputs": [
        {
          "output_type": "execute_result",
          "data": {
            "text/html": [
              "<div>\n",
              "<style scoped>\n",
              "    .dataframe tbody tr th:only-of-type {\n",
              "        vertical-align: middle;\n",
              "    }\n",
              "\n",
              "    .dataframe tbody tr th {\n",
              "        vertical-align: top;\n",
              "    }\n",
              "\n",
              "    .dataframe thead th {\n",
              "        text-align: right;\n",
              "    }\n",
              "</style>\n",
              "<table border=\"1\" class=\"dataframe\">\n",
              "  <thead>\n",
              "    <tr style=\"text-align: right;\">\n",
              "      <th></th>\n",
              "      <th>state</th>\n",
              "      <th>county</th>\n",
              "      <th>date</th>\n",
              "      <th>confirmed</th>\n",
              "      <th>deaths</th>\n",
              "    </tr>\n",
              "  </thead>\n",
              "  <tbody>\n",
              "    <tr>\n",
              "      <th>0</th>\n",
              "      <td>Vermont</td>\n",
              "      <td>50001</td>\n",
              "      <td>2020-05-07</td>\n",
              "      <td>61</td>\n",
              "      <td>2.0</td>\n",
              "    </tr>\n",
              "    <tr>\n",
              "      <th>1</th>\n",
              "      <td>Maine</td>\n",
              "      <td>23001</td>\n",
              "      <td>2020-05-07</td>\n",
              "      <td>74</td>\n",
              "      <td>2.0</td>\n",
              "    </tr>\n",
              "  </tbody>\n",
              "</table>\n",
              "</div>"
            ],
            "text/plain": [
              "     state  county       date  confirmed  deaths\n",
              "0  Vermont   50001 2020-05-07         61     2.0\n",
              "1    Maine   23001 2020-05-07         74     2.0"
            ]
          },
          "metadata": {
            "tags": []
          },
          "execution_count": 13
        }
      ]
    },
    {
      "cell_type": "code",
      "metadata": {
        "colab": {
          "base_uri": "https://localhost:8080/",
          "height": 297
        },
        "id": "9m4Qh4l44HfY",
        "outputId": "576ce682-ce78-4cef-85c5-b131dd973f5b"
      },
      "source": [
        "covid19.describe()"
      ],
      "execution_count": 14,
      "outputs": [
        {
          "output_type": "execute_result",
          "data": {
            "text/html": [
              "<div>\n",
              "<style scoped>\n",
              "    .dataframe tbody tr th:only-of-type {\n",
              "        vertical-align: middle;\n",
              "    }\n",
              "\n",
              "    .dataframe tbody tr th {\n",
              "        vertical-align: top;\n",
              "    }\n",
              "\n",
              "    .dataframe thead th {\n",
              "        text-align: right;\n",
              "    }\n",
              "</style>\n",
              "<table border=\"1\" class=\"dataframe\">\n",
              "  <thead>\n",
              "    <tr style=\"text-align: right;\">\n",
              "      <th></th>\n",
              "      <th>county</th>\n",
              "      <th>confirmed</th>\n",
              "      <th>deaths</th>\n",
              "    </tr>\n",
              "  </thead>\n",
              "  <tbody>\n",
              "    <tr>\n",
              "      <th>count</th>\n",
              "      <td>1.555155e+06</td>\n",
              "      <td>1.555155e+06</td>\n",
              "      <td>1.555155e+06</td>\n",
              "    </tr>\n",
              "    <tr>\n",
              "      <th>mean</th>\n",
              "      <td>3.214043e+04</td>\n",
              "      <td>5.021643e+03</td>\n",
              "      <td>9.958312e+01</td>\n",
              "    </tr>\n",
              "    <tr>\n",
              "      <th>std</th>\n",
              "      <td>1.778210e+04</td>\n",
              "      <td>2.361218e+04</td>\n",
              "      <td>5.112078e+02</td>\n",
              "    </tr>\n",
              "    <tr>\n",
              "      <th>min</th>\n",
              "      <td>6.600000e+01</td>\n",
              "      <td>0.000000e+00</td>\n",
              "      <td>0.000000e+00</td>\n",
              "    </tr>\n",
              "    <tr>\n",
              "      <th>25%</th>\n",
              "      <td>1.903100e+04</td>\n",
              "      <td>1.180000e+02</td>\n",
              "      <td>1.000000e+00</td>\n",
              "    </tr>\n",
              "    <tr>\n",
              "      <th>50%</th>\n",
              "      <td>3.004100e+04</td>\n",
              "      <td>7.690000e+02</td>\n",
              "      <td>1.400000e+01</td>\n",
              "    </tr>\n",
              "    <tr>\n",
              "      <th>75%</th>\n",
              "      <td>4.701300e+04</td>\n",
              "      <td>2.839000e+03</td>\n",
              "      <td>5.500000e+01</td>\n",
              "    </tr>\n",
              "    <tr>\n",
              "      <th>max</th>\n",
              "      <td>9.999900e+04</td>\n",
              "      <td>1.276254e+06</td>\n",
              "      <td>2.460900e+04</td>\n",
              "    </tr>\n",
              "  </tbody>\n",
              "</table>\n",
              "</div>"
            ],
            "text/plain": [
              "             county     confirmed        deaths\n",
              "count  1.555155e+06  1.555155e+06  1.555155e+06\n",
              "mean   3.214043e+04  5.021643e+03  9.958312e+01\n",
              "std    1.778210e+04  2.361218e+04  5.112078e+02\n",
              "min    6.600000e+01  0.000000e+00  0.000000e+00\n",
              "25%    1.903100e+04  1.180000e+02  1.000000e+00\n",
              "50%    3.004100e+04  7.690000e+02  1.400000e+01\n",
              "75%    4.701300e+04  2.839000e+03  5.500000e+01\n",
              "max    9.999900e+04  1.276254e+06  2.460900e+04"
            ]
          },
          "metadata": {
            "tags": []
          },
          "execution_count": 14
        }
      ]
    },
    {
      "cell_type": "code",
      "metadata": {
        "colab": {
          "base_uri": "https://localhost:8080/"
        },
        "id": "qx0isTmY4Zn-",
        "outputId": "f53edd3a-af5f-4007-c669-b392f073c93f"
      },
      "source": [
        "covid19.date.min()"
      ],
      "execution_count": 15,
      "outputs": [
        {
          "output_type": "execute_result",
          "data": {
            "text/plain": [
              "Timestamp('2020-03-22 00:00:00')"
            ]
          },
          "metadata": {
            "tags": []
          },
          "execution_count": 15
        }
      ]
    },
    {
      "cell_type": "code",
      "metadata": {
        "colab": {
          "base_uri": "https://localhost:8080/"
        },
        "id": "JsG03h4l4lri",
        "outputId": "f2384f8a-3d1a-4ae6-f3d5-0134364dbab7"
      },
      "source": [
        "covid19.date.max()"
      ],
      "execution_count": 16,
      "outputs": [
        {
          "output_type": "execute_result",
          "data": {
            "text/plain": [
              "Timestamp('2021-07-22 00:00:00')"
            ]
          },
          "metadata": {
            "tags": []
          },
          "execution_count": 16
        }
      ]
    },
    {
      "cell_type": "code",
      "metadata": {
        "colab": {
          "base_uri": "https://localhost:8080/",
          "height": 111
        },
        "id": "07N2i-h94nYT",
        "outputId": "e1c9230d-c97b-49c2-9a55-9d5cd3b13638"
      },
      "source": [
        "covid_last_day = covid19[covid19.date == covid19.date.max()]\n",
        "covid_last_day = covid_last_day.drop('date', axis=1)\n",
        "covid_last_day.head(2)"
      ],
      "execution_count": 20,
      "outputs": [
        {
          "output_type": "execute_result",
          "data": {
            "text/html": [
              "<div>\n",
              "<style scoped>\n",
              "    .dataframe tbody tr th:only-of-type {\n",
              "        vertical-align: middle;\n",
              "    }\n",
              "\n",
              "    .dataframe tbody tr th {\n",
              "        vertical-align: top;\n",
              "    }\n",
              "\n",
              "    .dataframe thead th {\n",
              "        text-align: right;\n",
              "    }\n",
              "</style>\n",
              "<table border=\"1\" class=\"dataframe\">\n",
              "  <thead>\n",
              "    <tr style=\"text-align: right;\">\n",
              "      <th></th>\n",
              "      <th>state</th>\n",
              "      <th>county</th>\n",
              "      <th>confirmed</th>\n",
              "      <th>deaths</th>\n",
              "    </tr>\n",
              "  </thead>\n",
              "  <tbody>\n",
              "    <tr>\n",
              "      <th>48704</th>\n",
              "      <td>Arizona</td>\n",
              "      <td>4001</td>\n",
              "      <td>11650</td>\n",
              "      <td>437.0</td>\n",
              "    </tr>\n",
              "    <tr>\n",
              "      <th>48705</th>\n",
              "      <td>Arizona</td>\n",
              "      <td>4003</td>\n",
              "      <td>12304</td>\n",
              "      <td>294.0</td>\n",
              "    </tr>\n",
              "  </tbody>\n",
              "</table>\n",
              "</div>"
            ],
            "text/plain": [
              "         state  county  confirmed  deaths\n",
              "48704  Arizona    4001      11650   437.0\n",
              "48705  Arizona    4003      12304   294.0"
            ]
          },
          "metadata": {
            "tags": []
          },
          "execution_count": 20
        }
      ]
    },
    {
      "cell_type": "code",
      "metadata": {
        "colab": {
          "base_uri": "https://localhost:8080/",
          "height": 1000
        },
        "id": "oOBujYg349UP",
        "outputId": "2961cf0c-4f15-492e-bbcd-5ee58139fcef"
      },
      "source": [
        "bar_data = covid_last_day.groupby('state')[['confirmed']].sum().sort_values('confirmed', ascending=False).reset_index()\n",
        "bar_data"
      ],
      "execution_count": 27,
      "outputs": [
        {
          "output_type": "execute_result",
          "data": {
            "text/html": [
              "<div>\n",
              "<style scoped>\n",
              "    .dataframe tbody tr th:only-of-type {\n",
              "        vertical-align: middle;\n",
              "    }\n",
              "\n",
              "    .dataframe tbody tr th {\n",
              "        vertical-align: top;\n",
              "    }\n",
              "\n",
              "    .dataframe thead th {\n",
              "        text-align: right;\n",
              "    }\n",
              "</style>\n",
              "<table border=\"1\" class=\"dataframe\">\n",
              "  <thead>\n",
              "    <tr style=\"text-align: right;\">\n",
              "      <th></th>\n",
              "      <th>state</th>\n",
              "      <th>confirmed</th>\n",
              "    </tr>\n",
              "  </thead>\n",
              "  <tbody>\n",
              "    <tr>\n",
              "      <th>0</th>\n",
              "      <td>California</td>\n",
              "      <td>3893526</td>\n",
              "    </tr>\n",
              "    <tr>\n",
              "      <th>1</th>\n",
              "      <td>Texas</td>\n",
              "      <td>3064743</td>\n",
              "    </tr>\n",
              "    <tr>\n",
              "      <th>2</th>\n",
              "      <td>Florida</td>\n",
              "      <td>2450344</td>\n",
              "    </tr>\n",
              "    <tr>\n",
              "      <th>3</th>\n",
              "      <td>New York</td>\n",
              "      <td>2131535</td>\n",
              "    </tr>\n",
              "    <tr>\n",
              "      <th>4</th>\n",
              "      <td>Illinois</td>\n",
              "      <td>1406459</td>\n",
              "    </tr>\n",
              "    <tr>\n",
              "      <th>5</th>\n",
              "      <td>Pennsylvania</td>\n",
              "      <td>1223026</td>\n",
              "    </tr>\n",
              "    <tr>\n",
              "      <th>6</th>\n",
              "      <td>Georgia</td>\n",
              "      <td>1155208</td>\n",
              "    </tr>\n",
              "    <tr>\n",
              "      <th>7</th>\n",
              "      <td>Ohio</td>\n",
              "      <td>1120120</td>\n",
              "    </tr>\n",
              "    <tr>\n",
              "      <th>8</th>\n",
              "      <td>New Jersey</td>\n",
              "      <td>1031346</td>\n",
              "    </tr>\n",
              "    <tr>\n",
              "      <th>9</th>\n",
              "      <td>North Carolina</td>\n",
              "      <td>1029931</td>\n",
              "    </tr>\n",
              "    <tr>\n",
              "      <th>10</th>\n",
              "      <td>Michigan</td>\n",
              "      <td>977547</td>\n",
              "    </tr>\n",
              "    <tr>\n",
              "      <th>11</th>\n",
              "      <td>Arizona</td>\n",
              "      <td>912653</td>\n",
              "    </tr>\n",
              "    <tr>\n",
              "      <th>12</th>\n",
              "      <td>Tennessee</td>\n",
              "      <td>879262</td>\n",
              "    </tr>\n",
              "    <tr>\n",
              "      <th>13</th>\n",
              "      <td>Indiana</td>\n",
              "      <td>763688</td>\n",
              "    </tr>\n",
              "    <tr>\n",
              "      <th>14</th>\n",
              "      <td>Massachusetts</td>\n",
              "      <td>711593</td>\n",
              "    </tr>\n",
              "    <tr>\n",
              "      <th>15</th>\n",
              "      <td>Virginia</td>\n",
              "      <td>687550</td>\n",
              "    </tr>\n",
              "    <tr>\n",
              "      <th>16</th>\n",
              "      <td>Wisconsin</td>\n",
              "      <td>681562</td>\n",
              "    </tr>\n",
              "    <tr>\n",
              "      <th>17</th>\n",
              "      <td>Missouri</td>\n",
              "      <td>615119</td>\n",
              "    </tr>\n",
              "    <tr>\n",
              "      <th>18</th>\n",
              "      <td>Minnesota</td>\n",
              "      <td>609016</td>\n",
              "    </tr>\n",
              "    <tr>\n",
              "      <th>19</th>\n",
              "      <td>South Carolina</td>\n",
              "      <td>605590</td>\n",
              "    </tr>\n",
              "    <tr>\n",
              "      <th>20</th>\n",
              "      <td>Colorado</td>\n",
              "      <td>568597</td>\n",
              "    </tr>\n",
              "    <tr>\n",
              "      <th>21</th>\n",
              "      <td>Alabama</td>\n",
              "      <td>565510</td>\n",
              "    </tr>\n",
              "    <tr>\n",
              "      <th>22</th>\n",
              "      <td>Louisiana</td>\n",
              "      <td>509716</td>\n",
              "    </tr>\n",
              "    <tr>\n",
              "      <th>23</th>\n",
              "      <td>Kentucky</td>\n",
              "      <td>473503</td>\n",
              "    </tr>\n",
              "    <tr>\n",
              "      <th>24</th>\n",
              "      <td>Oklahoma</td>\n",
              "      <td>469982</td>\n",
              "    </tr>\n",
              "    <tr>\n",
              "      <th>25</th>\n",
              "      <td>Washington</td>\n",
              "      <td>466099</td>\n",
              "    </tr>\n",
              "    <tr>\n",
              "      <th>26</th>\n",
              "      <td>Maryland</td>\n",
              "      <td>465038</td>\n",
              "    </tr>\n",
              "    <tr>\n",
              "      <th>27</th>\n",
              "      <td>Iowa</td>\n",
              "      <td>376673</td>\n",
              "    </tr>\n",
              "    <tr>\n",
              "      <th>28</th>\n",
              "      <td>Arkansas</td>\n",
              "      <td>370326</td>\n",
              "    </tr>\n",
              "    <tr>\n",
              "      <th>29</th>\n",
              "      <td>Connecticut</td>\n",
              "      <td>351825</td>\n",
              "    </tr>\n",
              "    <tr>\n",
              "      <th>30</th>\n",
              "      <td>Nevada</td>\n",
              "      <td>348040</td>\n",
              "    </tr>\n",
              "    <tr>\n",
              "      <th>31</th>\n",
              "      <td>Mississippi</td>\n",
              "      <td>331863</td>\n",
              "    </tr>\n",
              "    <tr>\n",
              "      <th>32</th>\n",
              "      <td>Kansas</td>\n",
              "      <td>326674</td>\n",
              "    </tr>\n",
              "    <tr>\n",
              "      <th>33</th>\n",
              "      <td>Utah</td>\n",
              "      <td>321308</td>\n",
              "    </tr>\n",
              "    <tr>\n",
              "      <th>34</th>\n",
              "      <td>Nebraska</td>\n",
              "      <td>226606</td>\n",
              "    </tr>\n",
              "    <tr>\n",
              "      <th>35</th>\n",
              "      <td>Oregon</td>\n",
              "      <td>214263</td>\n",
              "    </tr>\n",
              "    <tr>\n",
              "      <th>36</th>\n",
              "      <td>New Mexico</td>\n",
              "      <td>208243</td>\n",
              "    </tr>\n",
              "    <tr>\n",
              "      <th>37</th>\n",
              "      <td>Idaho</td>\n",
              "      <td>198014</td>\n",
              "    </tr>\n",
              "    <tr>\n",
              "      <th>38</th>\n",
              "      <td>West Virginia</td>\n",
              "      <td>165524</td>\n",
              "    </tr>\n",
              "    <tr>\n",
              "      <th>39</th>\n",
              "      <td>Rhode Island</td>\n",
              "      <td>153355</td>\n",
              "    </tr>\n",
              "    <tr>\n",
              "      <th>40</th>\n",
              "      <td>Puerto Rico</td>\n",
              "      <td>141348</td>\n",
              "    </tr>\n",
              "    <tr>\n",
              "      <th>41</th>\n",
              "      <td>South Dakota</td>\n",
              "      <td>124960</td>\n",
              "    </tr>\n",
              "    <tr>\n",
              "      <th>42</th>\n",
              "      <td>Montana</td>\n",
              "      <td>115143</td>\n",
              "    </tr>\n",
              "    <tr>\n",
              "      <th>43</th>\n",
              "      <td>North Dakota</td>\n",
              "      <td>111127</td>\n",
              "    </tr>\n",
              "    <tr>\n",
              "      <th>44</th>\n",
              "      <td>Delaware</td>\n",
              "      <td>110573</td>\n",
              "    </tr>\n",
              "    <tr>\n",
              "      <th>45</th>\n",
              "      <td>New Hampshire</td>\n",
              "      <td>100106</td>\n",
              "    </tr>\n",
              "    <tr>\n",
              "      <th>46</th>\n",
              "      <td>Alaska</td>\n",
              "      <td>73374</td>\n",
              "    </tr>\n",
              "    <tr>\n",
              "      <th>47</th>\n",
              "      <td>Maine</td>\n",
              "      <td>69781</td>\n",
              "    </tr>\n",
              "    <tr>\n",
              "      <th>48</th>\n",
              "      <td>Wyoming</td>\n",
              "      <td>64141</td>\n",
              "    </tr>\n",
              "    <tr>\n",
              "      <th>49</th>\n",
              "      <td>District of Columbia</td>\n",
              "      <td>49930</td>\n",
              "    </tr>\n",
              "    <tr>\n",
              "      <th>50</th>\n",
              "      <td>Hawaii</td>\n",
              "      <td>39892</td>\n",
              "    </tr>\n",
              "    <tr>\n",
              "      <th>51</th>\n",
              "      <td>Vermont</td>\n",
              "      <td>24647</td>\n",
              "    </tr>\n",
              "    <tr>\n",
              "      <th>52</th>\n",
              "      <td>Guam</td>\n",
              "      <td>8500</td>\n",
              "    </tr>\n",
              "    <tr>\n",
              "      <th>53</th>\n",
              "      <td>Virgin Islands</td>\n",
              "      <td>4301</td>\n",
              "    </tr>\n",
              "    <tr>\n",
              "      <th>54</th>\n",
              "      <td>Northern Mariana Islands</td>\n",
              "      <td>183</td>\n",
              "    </tr>\n",
              "    <tr>\n",
              "      <th>55</th>\n",
              "      <td>Grand Princess</td>\n",
              "      <td>103</td>\n",
              "    </tr>\n",
              "    <tr>\n",
              "      <th>56</th>\n",
              "      <td>Diamond Princess</td>\n",
              "      <td>49</td>\n",
              "    </tr>\n",
              "  </tbody>\n",
              "</table>\n",
              "</div>"
            ],
            "text/plain": [
              "                       state  confirmed\n",
              "0                 California    3893526\n",
              "1                      Texas    3064743\n",
              "2                    Florida    2450344\n",
              "3                   New York    2131535\n",
              "4                   Illinois    1406459\n",
              "5               Pennsylvania    1223026\n",
              "6                    Georgia    1155208\n",
              "7                       Ohio    1120120\n",
              "8                 New Jersey    1031346\n",
              "9             North Carolina    1029931\n",
              "10                  Michigan     977547\n",
              "11                   Arizona     912653\n",
              "12                 Tennessee     879262\n",
              "13                   Indiana     763688\n",
              "14             Massachusetts     711593\n",
              "15                  Virginia     687550\n",
              "16                 Wisconsin     681562\n",
              "17                  Missouri     615119\n",
              "18                 Minnesota     609016\n",
              "19            South Carolina     605590\n",
              "20                  Colorado     568597\n",
              "21                   Alabama     565510\n",
              "22                 Louisiana     509716\n",
              "23                  Kentucky     473503\n",
              "24                  Oklahoma     469982\n",
              "25                Washington     466099\n",
              "26                  Maryland     465038\n",
              "27                      Iowa     376673\n",
              "28                  Arkansas     370326\n",
              "29               Connecticut     351825\n",
              "30                    Nevada     348040\n",
              "31               Mississippi     331863\n",
              "32                    Kansas     326674\n",
              "33                      Utah     321308\n",
              "34                  Nebraska     226606\n",
              "35                    Oregon     214263\n",
              "36                New Mexico     208243\n",
              "37                     Idaho     198014\n",
              "38             West Virginia     165524\n",
              "39              Rhode Island     153355\n",
              "40               Puerto Rico     141348\n",
              "41              South Dakota     124960\n",
              "42                   Montana     115143\n",
              "43              North Dakota     111127\n",
              "44                  Delaware     110573\n",
              "45             New Hampshire     100106\n",
              "46                    Alaska      73374\n",
              "47                     Maine      69781\n",
              "48                   Wyoming      64141\n",
              "49      District of Columbia      49930\n",
              "50                    Hawaii      39892\n",
              "51                   Vermont      24647\n",
              "52                      Guam       8500\n",
              "53            Virgin Islands       4301\n",
              "54  Northern Mariana Islands        183\n",
              "55            Grand Princess        103\n",
              "56          Diamond Princess         49"
            ]
          },
          "metadata": {
            "tags": []
          },
          "execution_count": 27
        }
      ]
    },
    {
      "cell_type": "code",
      "metadata": {
        "colab": {
          "base_uri": "https://localhost:8080/",
          "height": 730
        },
        "id": "f9wlVu_f5snd",
        "outputId": "bbbaf6aa-bb7e-4857-e818-bc05f33c3751"
      },
      "source": [
        "sns.catplot(data=bar_data, x='confirmed', y='state', kind='bar', \n",
        "            height=10, aspect=0.5);"
      ],
      "execution_count": 29,
      "outputs": [
        {
          "output_type": "display_data",
          "data": {
            "image/png": "[encoded data removed]",
            "text/plain": [
              "<Figure size 360x720 with 1 Axes>"
            ]
          },
          "metadata": {
            "tags": [],
            "needs_background": "light"
          }
        }
      ]
    },
    {
      "cell_type": "code",
      "metadata": {
        "colab": {
          "base_uri": "https://localhost:8080/"
        },
        "id": "JVjYo8wz7ztU",
        "outputId": "a9152a30-1876-4ec6-f040-268f81bf621d"
      },
      "source": [
        "covid19.date.max()"
      ],
      "execution_count": 31,
      "outputs": [
        {
          "output_type": "execute_result",
          "data": {
            "text/plain": [
              "Timestamp('2021-07-22 00:00:00')"
            ]
          },
          "metadata": {
            "tags": []
          },
          "execution_count": 31
        }
      ]
    },
    {
      "cell_type": "code",
      "metadata": {
        "colab": {
          "base_uri": "https://localhost:8080/",
          "height": 111
        },
        "id": "ecqA7-MJ6asC",
        "outputId": "b20a867c-ac7f-4b08-a97d-9f0663bfa0be"
      },
      "source": [
        "from datetime import timedelta\n",
        "date_last_week = covid19.date.max() - timedelta(days=7)\n",
        "covid_one_week_ago = covid19[covid19.date == date_last_week]\n",
        "covid_one_week_ago = covid_one_week_ago.drop('date', axis=1)\n",
        "covid_one_week_ago.head(2)"
      ],
      "execution_count": 33,
      "outputs": [
        {
          "output_type": "execute_result",
          "data": {
            "text/html": [
              "<div>\n",
              "<style scoped>\n",
              "    .dataframe tbody tr th:only-of-type {\n",
              "        vertical-align: middle;\n",
              "    }\n",
              "\n",
              "    .dataframe tbody tr th {\n",
              "        vertical-align: top;\n",
              "    }\n",
              "\n",
              "    .dataframe thead th {\n",
              "        text-align: right;\n",
              "    }\n",
              "</style>\n",
              "<table border=\"1\" class=\"dataframe\">\n",
              "  <thead>\n",
              "    <tr style=\"text-align: right;\">\n",
              "      <th></th>\n",
              "      <th>state</th>\n",
              "      <th>county</th>\n",
              "      <th>confirmed</th>\n",
              "      <th>deaths</th>\n",
              "    </tr>\n",
              "  </thead>\n",
              "  <tbody>\n",
              "    <tr>\n",
              "      <th>59951</th>\n",
              "      <td>Arizona</td>\n",
              "      <td>4001</td>\n",
              "      <td>11568</td>\n",
              "      <td>437.0</td>\n",
              "    </tr>\n",
              "    <tr>\n",
              "      <th>59952</th>\n",
              "      <td>Arizona</td>\n",
              "      <td>4003</td>\n",
              "      <td>12265</td>\n",
              "      <td>293.0</td>\n",
              "    </tr>\n",
              "  </tbody>\n",
              "</table>\n",
              "</div>"
            ],
            "text/plain": [
              "         state  county  confirmed  deaths\n",
              "59951  Arizona    4001      11568   437.0\n",
              "59952  Arizona    4003      12265   293.0"
            ]
          },
          "metadata": {
            "tags": []
          },
          "execution_count": 33
        }
      ]
    },
    {
      "cell_type": "code",
      "metadata": {
        "colab": {
          "base_uri": "https://localhost:8080/",
          "height": 204
        },
        "id": "R9IhwJPZ7oQa",
        "outputId": "d6aa95d2-fc1a-4e9d-eba3-3ac06603f8bb"
      },
      "source": [
        "merged_df = pd.merge(covid_last_day, covid_one_week_ago, on=['state', 'county'], how='left', suffixes=('_0', '_7'))\n",
        "merged_df.head(5)"
      ],
      "execution_count": 36,
      "outputs": [
        {
          "output_type": "execute_result",
          "data": {
            "text/html": [
              "<div>\n",
              "<style scoped>\n",
              "    .dataframe tbody tr th:only-of-type {\n",
              "        vertical-align: middle;\n",
              "    }\n",
              "\n",
              "    .dataframe tbody tr th {\n",
              "        vertical-align: top;\n",
              "    }\n",
              "\n",
              "    .dataframe thead th {\n",
              "        text-align: right;\n",
              "    }\n",
              "</style>\n",
              "<table border=\"1\" class=\"dataframe\">\n",
              "  <thead>\n",
              "    <tr style=\"text-align: right;\">\n",
              "      <th></th>\n",
              "      <th>state</th>\n",
              "      <th>county</th>\n",
              "      <th>confirmed_0</th>\n",
              "      <th>deaths_0</th>\n",
              "      <th>confirmed_7</th>\n",
              "      <th>deaths_7</th>\n",
              "    </tr>\n",
              "  </thead>\n",
              "  <tbody>\n",
              "    <tr>\n",
              "      <th>0</th>\n",
              "      <td>Arizona</td>\n",
              "      <td>4001</td>\n",
              "      <td>11650</td>\n",
              "      <td>437.0</td>\n",
              "      <td>11568</td>\n",
              "      <td>437.0</td>\n",
              "    </tr>\n",
              "    <tr>\n",
              "      <th>1</th>\n",
              "      <td>Arizona</td>\n",
              "      <td>4003</td>\n",
              "      <td>12304</td>\n",
              "      <td>294.0</td>\n",
              "      <td>12265</td>\n",
              "      <td>293.0</td>\n",
              "    </tr>\n",
              "    <tr>\n",
              "      <th>2</th>\n",
              "      <td>Arizona</td>\n",
              "      <td>4005</td>\n",
              "      <td>18306</td>\n",
              "      <td>331.0</td>\n",
              "      <td>18223</td>\n",
              "      <td>331.0</td>\n",
              "    </tr>\n",
              "    <tr>\n",
              "      <th>3</th>\n",
              "      <td>Arizona</td>\n",
              "      <td>4007</td>\n",
              "      <td>7248</td>\n",
              "      <td>231.0</td>\n",
              "      <td>7174</td>\n",
              "      <td>231.0</td>\n",
              "    </tr>\n",
              "    <tr>\n",
              "      <th>4</th>\n",
              "      <td>Arizona</td>\n",
              "      <td>4009</td>\n",
              "      <td>5636</td>\n",
              "      <td>86.0</td>\n",
              "      <td>5614</td>\n",
              "      <td>85.0</td>\n",
              "    </tr>\n",
              "  </tbody>\n",
              "</table>\n",
              "</div>"
            ],
            "text/plain": [
              "     state  county  confirmed_0  deaths_0  confirmed_7  deaths_7\n",
              "0  Arizona    4001        11650     437.0        11568     437.0\n",
              "1  Arizona    4003        12304     294.0        12265     293.0\n",
              "2  Arizona    4005        18306     331.0        18223     331.0\n",
              "3  Arizona    4007         7248     231.0         7174     231.0\n",
              "4  Arizona    4009         5636      86.0         5614      85.0"
            ]
          },
          "metadata": {
            "tags": []
          },
          "execution_count": 36
        }
      ]
    },
    {
      "cell_type": "code",
      "metadata": {
        "colab": {
          "base_uri": "https://localhost:8080/",
          "height": 204
        },
        "id": "4LOUEToO8j-_",
        "outputId": "6926ca58-0326-403c-fa6c-bdd732271fd9"
      },
      "source": [
        "merged_df['confirmed'] = merged_df.confirmed_0 - merged_df.confirmed_7\n",
        "merged_df['deaths'] = merged_df.deaths_0 - merged_df.deaths_7\n",
        "merged_df.head(5)"
      ],
      "execution_count": 39,
      "outputs": [
        {
          "output_type": "execute_result",
          "data": {
            "text/html": [
              "<div>\n",
              "<style scoped>\n",
              "    .dataframe tbody tr th:only-of-type {\n",
              "        vertical-align: middle;\n",
              "    }\n",
              "\n",
              "    .dataframe tbody tr th {\n",
              "        vertical-align: top;\n",
              "    }\n",
              "\n",
              "    .dataframe thead th {\n",
              "        text-align: right;\n",
              "    }\n",
              "</style>\n",
              "<table border=\"1\" class=\"dataframe\">\n",
              "  <thead>\n",
              "    <tr style=\"text-align: right;\">\n",
              "      <th></th>\n",
              "      <th>state</th>\n",
              "      <th>county</th>\n",
              "      <th>confirmed_0</th>\n",
              "      <th>deaths_0</th>\n",
              "      <th>confirmed_7</th>\n",
              "      <th>deaths_7</th>\n",
              "      <th>confirmed</th>\n",
              "      <th>deaths</th>\n",
              "    </tr>\n",
              "  </thead>\n",
              "  <tbody>\n",
              "    <tr>\n",
              "      <th>0</th>\n",
              "      <td>Arizona</td>\n",
              "      <td>4001</td>\n",
              "      <td>11650</td>\n",
              "      <td>437.0</td>\n",
              "      <td>11568</td>\n",
              "      <td>437.0</td>\n",
              "      <td>82</td>\n",
              "      <td>0.0</td>\n",
              "    </tr>\n",
              "    <tr>\n",
              "      <th>1</th>\n",
              "      <td>Arizona</td>\n",
              "      <td>4003</td>\n",
              "      <td>12304</td>\n",
              "      <td>294.0</td>\n",
              "      <td>12265</td>\n",
              "      <td>293.0</td>\n",
              "      <td>39</td>\n",
              "      <td>1.0</td>\n",
              "    </tr>\n",
              "    <tr>\n",
              "      <th>2</th>\n",
              "      <td>Arizona</td>\n",
              "      <td>4005</td>\n",
              "      <td>18306</td>\n",
              "      <td>331.0</td>\n",
              "      <td>18223</td>\n",
              "      <td>331.0</td>\n",
              "      <td>83</td>\n",
              "      <td>0.0</td>\n",
              "    </tr>\n",
              "    <tr>\n",
              "      <th>3</th>\n",
              "      <td>Arizona</td>\n",
              "      <td>4007</td>\n",
              "      <td>7248</td>\n",
              "      <td>231.0</td>\n",
              "      <td>7174</td>\n",
              "      <td>231.0</td>\n",
              "      <td>74</td>\n",
              "      <td>0.0</td>\n",
              "    </tr>\n",
              "    <tr>\n",
              "      <th>4</th>\n",
              "      <td>Arizona</td>\n",
              "      <td>4009</td>\n",
              "      <td>5636</td>\n",
              "      <td>86.0</td>\n",
              "      <td>5614</td>\n",
              "      <td>85.0</td>\n",
              "      <td>22</td>\n",
              "      <td>1.0</td>\n",
              "    </tr>\n",
              "  </tbody>\n",
              "</table>\n",
              "</div>"
            ],
            "text/plain": [
              "     state  county  confirmed_0  ...  deaths_7  confirmed  deaths\n",
              "0  Arizona    4001        11650  ...     437.0         82     0.0\n",
              "1  Arizona    4003        12304  ...     293.0         39     1.0\n",
              "2  Arizona    4005        18306  ...     331.0         83     0.0\n",
              "3  Arizona    4007         7248  ...     231.0         74     0.0\n",
              "4  Arizona    4009         5636  ...      85.0         22     1.0\n",
              "\n",
              "[5 rows x 8 columns]"
            ]
          },
          "metadata": {
            "tags": []
          },
          "execution_count": 39
        }
      ]
    },
    {
      "cell_type": "code",
      "metadata": {
        "colab": {
          "base_uri": "https://localhost:8080/",
          "height": 111
        },
        "id": "FG-ZpUYR9Onn",
        "outputId": "e6b189f9-8f98-449d-c14b-f6a29742a8c8"
      },
      "source": [
        "covid_last_7_days = merged_df[['state', 'county', 'confirmed', 'deaths']]\n",
        "covid_last_7_days.head(2)"
      ],
      "execution_count": 40,
      "outputs": [
        {
          "output_type": "execute_result",
          "data": {
            "text/html": [
              "<div>\n",
              "<style scoped>\n",
              "    .dataframe tbody tr th:only-of-type {\n",
              "        vertical-align: middle;\n",
              "    }\n",
              "\n",
              "    .dataframe tbody tr th {\n",
              "        vertical-align: top;\n",
              "    }\n",
              "\n",
              "    .dataframe thead th {\n",
              "        text-align: right;\n",
              "    }\n",
              "</style>\n",
              "<table border=\"1\" class=\"dataframe\">\n",
              "  <thead>\n",
              "    <tr style=\"text-align: right;\">\n",
              "      <th></th>\n",
              "      <th>state</th>\n",
              "      <th>county</th>\n",
              "      <th>confirmed</th>\n",
              "      <th>deaths</th>\n",
              "    </tr>\n",
              "  </thead>\n",
              "  <tbody>\n",
              "    <tr>\n",
              "      <th>0</th>\n",
              "      <td>Arizona</td>\n",
              "      <td>4001</td>\n",
              "      <td>82</td>\n",
              "      <td>0.0</td>\n",
              "    </tr>\n",
              "    <tr>\n",
              "      <th>1</th>\n",
              "      <td>Arizona</td>\n",
              "      <td>4003</td>\n",
              "      <td>39</td>\n",
              "      <td>1.0</td>\n",
              "    </tr>\n",
              "  </tbody>\n",
              "</table>\n",
              "</div>"
            ],
            "text/plain": [
              "     state  county  confirmed  deaths\n",
              "0  Arizona    4001         82     0.0\n",
              "1  Arizona    4003         39     1.0"
            ]
          },
          "metadata": {
            "tags": []
          },
          "execution_count": 40
        }
      ]
    },
    {
      "cell_type": "code",
      "metadata": {
        "colab": {
          "base_uri": "https://localhost:8080/",
          "height": 743
        },
        "id": "ExcNXNCU9l_o",
        "outputId": "6da0564a-4ee5-46e1-a61b-c52c55e8ea4d"
      },
      "source": [
        "covid_last_7_days_state = covid_last_7_days.groupby('state')[['confirmed', 'deaths']].sum().sort_values('confirmed', ascending=False).reset_index()\n",
        "sns.catplot(data=covid_last_7_days_state, x='confirmed', y='state', kind='bar', \n",
        "            height=10, aspect=0.5);"
      ],
      "execution_count": 46,
      "outputs": [
        {
          "output_type": "display_data",
          "data": {
            "image/png": "[encoded data removed]",
            "text/plain": [
              "<Figure size 360x720 with 1 Axes>"
            ]
          },
          "metadata": {
            "tags": [],
            "needs_background": "light"
          }
        }
      ]
    },
    {
      "cell_type": "code",
      "metadata": {
        "colab": {
          "base_uri": "https://localhost:8080/",
          "height": 204
        },
        "id": "G48q9KCd94xE",
        "outputId": "9ce58a84-e7f9-4a08-f8c9-eb419241c167"
      },
      "source": [
        "us_pop = pd.read_csv('https://raw.githubusercontent.com/soltaniehha/datasets/main/US_Population_By_State_2019.csv')\n",
        "us_pop.head()"
      ],
      "execution_count": 47,
      "outputs": [
        {
          "output_type": "execute_result",
          "data": {
            "text/html": [
              "<div>\n",
              "<style scoped>\n",
              "    .dataframe tbody tr th:only-of-type {\n",
              "        vertical-align: middle;\n",
              "    }\n",
              "\n",
              "    .dataframe tbody tr th {\n",
              "        vertical-align: top;\n",
              "    }\n",
              "\n",
              "    .dataframe thead th {\n",
              "        text-align: right;\n",
              "    }\n",
              "</style>\n",
              "<table border=\"1\" class=\"dataframe\">\n",
              "  <thead>\n",
              "    <tr style=\"text-align: right;\">\n",
              "      <th></th>\n",
              "      <th>STATE</th>\n",
              "      <th>POPULATION</th>\n",
              "    </tr>\n",
              "  </thead>\n",
              "  <tbody>\n",
              "    <tr>\n",
              "      <th>0</th>\n",
              "      <td>Alabama</td>\n",
              "      <td>4903185</td>\n",
              "    </tr>\n",
              "    <tr>\n",
              "      <th>1</th>\n",
              "      <td>Alaska</td>\n",
              "      <td>731545</td>\n",
              "    </tr>\n",
              "    <tr>\n",
              "      <th>2</th>\n",
              "      <td>Arizona</td>\n",
              "      <td>7278717</td>\n",
              "    </tr>\n",
              "    <tr>\n",
              "      <th>3</th>\n",
              "      <td>Arkansas</td>\n",
              "      <td>3017804</td>\n",
              "    </tr>\n",
              "    <tr>\n",
              "      <th>4</th>\n",
              "      <td>California</td>\n",
              "      <td>39512223</td>\n",
              "    </tr>\n",
              "  </tbody>\n",
              "</table>\n",
              "</div>"
            ],
            "text/plain": [
              "        STATE  POPULATION\n",
              "0     Alabama     4903185\n",
              "1      Alaska      731545\n",
              "2     Arizona     7278717\n",
              "3    Arkansas     3017804\n",
              "4  California    39512223"
            ]
          },
          "metadata": {
            "tags": []
          },
          "execution_count": 47
        }
      ]
    },
    {
      "cell_type": "code",
      "metadata": {
        "colab": {
          "base_uri": "https://localhost:8080/",
          "height": 111
        },
        "id": "UwEi8Uru-Uit",
        "outputId": "3709ffc3-a2d6-4df6-b81b-e9c6afc86c33"
      },
      "source": [
        "df_7 = covid_last_7_days_state.merge(us_pop, how='right', left_on='state', right_on='STATE')\n",
        "df_7.drop('STATE', axis=1, inplace=True)\n",
        "df_7.head(2)"
      ],
      "execution_count": 49,
      "outputs": [
        {
          "output_type": "execute_result",
          "data": {
            "text/html": [
              "<div>\n",
              "<style scoped>\n",
              "    .dataframe tbody tr th:only-of-type {\n",
              "        vertical-align: middle;\n",
              "    }\n",
              "\n",
              "    .dataframe tbody tr th {\n",
              "        vertical-align: top;\n",
              "    }\n",
              "\n",
              "    .dataframe thead th {\n",
              "        text-align: right;\n",
              "    }\n",
              "</style>\n",
              "<table border=\"1\" class=\"dataframe\">\n",
              "  <thead>\n",
              "    <tr style=\"text-align: right;\">\n",
              "      <th></th>\n",
              "      <th>state</th>\n",
              "      <th>confirmed</th>\n",
              "      <th>deaths</th>\n",
              "      <th>POPULATION</th>\n",
              "    </tr>\n",
              "  </thead>\n",
              "  <tbody>\n",
              "    <tr>\n",
              "      <th>0</th>\n",
              "      <td>Alabama</td>\n",
              "      <td>7932</td>\n",
              "      <td>29.0</td>\n",
              "      <td>4903185</td>\n",
              "    </tr>\n",
              "    <tr>\n",
              "      <th>1</th>\n",
              "      <td>Alaska</td>\n",
              "      <td>1221</td>\n",
              "      <td>1.0</td>\n",
              "      <td>731545</td>\n",
              "    </tr>\n",
              "  </tbody>\n",
              "</table>\n",
              "</div>"
            ],
            "text/plain": [
              "     state  confirmed  deaths  POPULATION\n",
              "0  Alabama       7932    29.0     4903185\n",
              "1   Alaska       1221     1.0      731545"
            ]
          },
          "metadata": {
            "tags": []
          },
          "execution_count": 49
        }
      ]
    },
    {
      "cell_type": "code",
      "metadata": {
        "colab": {
          "base_uri": "https://localhost:8080/",
          "height": 111
        },
        "id": "DhUVCnte-9AQ",
        "outputId": "1fd24422-d672-4868-c503-6c2b697bc404"
      },
      "source": [
        "df_7['confirmed_per_m'] = df_7['confirmed'] / df_7['POPULATION'] * 1000000\n",
        "df_7['deaths_per_m'] = df_7['deaths'] / df_7['POPULATION'] * 1000000\n",
        "df_7.sort_values('confirmed_per_m', ascending=False, inplace=True)\n",
        "df_7.head(2)"
      ],
      "execution_count": 51,
      "outputs": [
        {
          "output_type": "execute_result",
          "data": {
            "text/html": [
              "<div>\n",
              "<style scoped>\n",
              "    .dataframe tbody tr th:only-of-type {\n",
              "        vertical-align: middle;\n",
              "    }\n",
              "\n",
              "    .dataframe tbody tr th {\n",
              "        vertical-align: top;\n",
              "    }\n",
              "\n",
              "    .dataframe thead th {\n",
              "        text-align: right;\n",
              "    }\n",
              "</style>\n",
              "<table border=\"1\" class=\"dataframe\">\n",
              "  <thead>\n",
              "    <tr style=\"text-align: right;\">\n",
              "      <th></th>\n",
              "      <th>state</th>\n",
              "      <th>confirmed</th>\n",
              "      <th>deaths</th>\n",
              "      <th>POPULATION</th>\n",
              "      <th>confirmed_per_m</th>\n",
              "      <th>deaths_per_m</th>\n",
              "    </tr>\n",
              "  </thead>\n",
              "  <tbody>\n",
              "    <tr>\n",
              "      <th>18</th>\n",
              "      <td>Louisiana</td>\n",
              "      <td>15376</td>\n",
              "      <td>68.0</td>\n",
              "      <td>4648794</td>\n",
              "      <td>3307.524489</td>\n",
              "      <td>14.627450</td>\n",
              "    </tr>\n",
              "    <tr>\n",
              "      <th>3</th>\n",
              "      <td>Arkansas</td>\n",
              "      <td>9088</td>\n",
              "      <td>54.0</td>\n",
              "      <td>3017804</td>\n",
              "      <td>3011.461314</td>\n",
              "      <td>17.893806</td>\n",
              "    </tr>\n",
              "  </tbody>\n",
              "</table>\n",
              "</div>"
            ],
            "text/plain": [
              "        state  confirmed  deaths  POPULATION  confirmed_per_m  deaths_per_m\n",
              "18  Louisiana      15376    68.0     4648794      3307.524489     14.627450\n",
              "3    Arkansas       9088    54.0     3017804      3011.461314     17.893806"
            ]
          },
          "metadata": {
            "tags": []
          },
          "execution_count": 51
        }
      ]
    },
    {
      "cell_type": "code",
      "metadata": {
        "colab": {
          "base_uri": "https://localhost:8080/",
          "height": 744
        },
        "id": "FKHOSqpg_XxT",
        "outputId": "84a12da4-1fc7-4dd6-f730-c7219511cba7"
      },
      "source": [
        "sns.catplot(data=df_7, x='confirmed_per_m', y='state', kind='bar', \n",
        "            height=10, aspect=0.5);"
      ],
      "execution_count": 52,
      "outputs": [
        {
          "output_type": "display_data",
          "data": {
            "image/png": "[encoded data removed]",
            "text/plain": [
              "<Figure size 360x720 with 1 Axes>"
            ]
          },
          "metadata": {
            "tags": [],
            "needs_background": "light"
          }
        }
      ]
    },
    {
      "cell_type": "code",
      "metadata": {
        "colab": {
          "base_uri": "https://localhost:8080/",
          "height": 309
        },
        "id": "JHD88R4x_4fD",
        "outputId": "da168760-c59b-4417-f681-cc28f8f2c99b"
      },
      "source": [
        "us_vax = pd.read_csv('https://raw.githubusercontent.com/soltaniehha/datasets/main/us_state_vaccinations.csv')\n",
        "us_vax.head(5)"
      ],
      "execution_count": 53,
      "outputs": [
        {
          "output_type": "execute_result",
          "data": {
            "text/html": [
              "<div>\n",
              "<style scoped>\n",
              "    .dataframe tbody tr th:only-of-type {\n",
              "        vertical-align: middle;\n",
              "    }\n",
              "\n",
              "    .dataframe tbody tr th {\n",
              "        vertical-align: top;\n",
              "    }\n",
              "\n",
              "    .dataframe thead th {\n",
              "        text-align: right;\n",
              "    }\n",
              "</style>\n",
              "<table border=\"1\" class=\"dataframe\">\n",
              "  <thead>\n",
              "    <tr style=\"text-align: right;\">\n",
              "      <th></th>\n",
              "      <th>date</th>\n",
              "      <th>location</th>\n",
              "      <th>total_vaccinations</th>\n",
              "      <th>total_distributed</th>\n",
              "      <th>people_vaccinated</th>\n",
              "      <th>people_fully_vaccinated_per_hundred</th>\n",
              "      <th>total_vaccinations_per_hundred</th>\n",
              "      <th>people_fully_vaccinated</th>\n",
              "      <th>people_vaccinated_per_hundred</th>\n",
              "      <th>distributed_per_hundred</th>\n",
              "      <th>daily_vaccinations_raw</th>\n",
              "      <th>daily_vaccinations</th>\n",
              "      <th>daily_vaccinations_per_million</th>\n",
              "      <th>share_doses_used</th>\n",
              "    </tr>\n",
              "  </thead>\n",
              "  <tbody>\n",
              "    <tr>\n",
              "      <th>0</th>\n",
              "      <td>2021-01-12</td>\n",
              "      <td>Alabama</td>\n",
              "      <td>78134.0</td>\n",
              "      <td>377025.0</td>\n",
              "      <td>70861.0</td>\n",
              "      <td>0.15</td>\n",
              "      <td>1.59</td>\n",
              "      <td>7270.0</td>\n",
              "      <td>1.45</td>\n",
              "      <td>7.69</td>\n",
              "      <td>NaN</td>\n",
              "      <td>NaN</td>\n",
              "      <td>NaN</td>\n",
              "      <td>0.207</td>\n",
              "    </tr>\n",
              "    <tr>\n",
              "      <th>1</th>\n",
              "      <td>2021-01-13</td>\n",
              "      <td>Alabama</td>\n",
              "      <td>84040.0</td>\n",
              "      <td>378975.0</td>\n",
              "      <td>74792.0</td>\n",
              "      <td>0.19</td>\n",
              "      <td>1.71</td>\n",
              "      <td>9245.0</td>\n",
              "      <td>1.53</td>\n",
              "      <td>7.73</td>\n",
              "      <td>5906.0</td>\n",
              "      <td>5906.0</td>\n",
              "      <td>1205.0</td>\n",
              "      <td>0.222</td>\n",
              "    </tr>\n",
              "    <tr>\n",
              "      <th>2</th>\n",
              "      <td>2021-01-14</td>\n",
              "      <td>Alabama</td>\n",
              "      <td>92300.0</td>\n",
              "      <td>435350.0</td>\n",
              "      <td>80480.0</td>\n",
              "      <td>NaN</td>\n",
              "      <td>1.88</td>\n",
              "      <td>NaN</td>\n",
              "      <td>1.64</td>\n",
              "      <td>8.88</td>\n",
              "      <td>8260.0</td>\n",
              "      <td>7083.0</td>\n",
              "      <td>1445.0</td>\n",
              "      <td>0.212</td>\n",
              "    </tr>\n",
              "    <tr>\n",
              "      <th>3</th>\n",
              "      <td>2021-01-15</td>\n",
              "      <td>Alabama</td>\n",
              "      <td>100567.0</td>\n",
              "      <td>444650.0</td>\n",
              "      <td>86956.0</td>\n",
              "      <td>0.28</td>\n",
              "      <td>2.05</td>\n",
              "      <td>13488.0</td>\n",
              "      <td>1.77</td>\n",
              "      <td>9.07</td>\n",
              "      <td>8267.0</td>\n",
              "      <td>7478.0</td>\n",
              "      <td>1525.0</td>\n",
              "      <td>0.226</td>\n",
              "    </tr>\n",
              "    <tr>\n",
              "      <th>4</th>\n",
              "      <td>2021-01-16</td>\n",
              "      <td>Alabama</td>\n",
              "      <td>NaN</td>\n",
              "      <td>NaN</td>\n",
              "      <td>NaN</td>\n",
              "      <td>NaN</td>\n",
              "      <td>NaN</td>\n",
              "      <td>NaN</td>\n",
              "      <td>NaN</td>\n",
              "      <td>NaN</td>\n",
              "      <td>7557.0</td>\n",
              "      <td>7498.0</td>\n",
              "      <td>1529.0</td>\n",
              "      <td>NaN</td>\n",
              "    </tr>\n",
              "  </tbody>\n",
              "</table>\n",
              "</div>"
            ],
            "text/plain": [
              "         date location  ...  daily_vaccinations_per_million  share_doses_used\n",
              "0  2021-01-12  Alabama  ...                             NaN             0.207\n",
              "1  2021-01-13  Alabama  ...                          1205.0             0.222\n",
              "2  2021-01-14  Alabama  ...                          1445.0             0.212\n",
              "3  2021-01-15  Alabama  ...                          1525.0             0.226\n",
              "4  2021-01-16  Alabama  ...                          1529.0               NaN\n",
              "\n",
              "[5 rows x 14 columns]"
            ]
          },
          "metadata": {
            "tags": []
          },
          "execution_count": 53
        }
      ]
    },
    {
      "cell_type": "code",
      "metadata": {
        "colab": {
          "base_uri": "https://localhost:8080/",
          "height": 35
        },
        "id": "4Whq-BqjAerB",
        "outputId": "d920fbe2-98e9-4a0b-a3d4-44c7d60139d2"
      },
      "source": [
        "us_vax.date.max()"
      ],
      "execution_count": 54,
      "outputs": [
        {
          "output_type": "execute_result",
          "data": {
            "application/vnd.google.colaboratory.intrinsic+json": {
              "type": "string"
            },
            "text/plain": [
              "'2021-07-23'"
            ]
          },
          "metadata": {
            "tags": []
          },
          "execution_count": 54
        }
      ]
    },
    {
      "cell_type": "code",
      "metadata": {
        "colab": {
          "base_uri": "https://localhost:8080/",
          "height": 111
        },
        "id": "7CMrdGVWAQ1e",
        "outputId": "72dd6e1d-b8c9-4711-d9eb-cdd1687f3600"
      },
      "source": [
        "us_vax = us_vax[us_vax.date == us_vax.date.max()]\n",
        "us_vax = us_vax[['location', 'people_fully_vaccinated_per_hundred']]\n",
        "us_vax.columns = ['state', 'vax_rate']\n",
        "us_vax.head(2)"
      ],
      "execution_count": 55,
      "outputs": [
        {
          "output_type": "execute_result",
          "data": {
            "text/html": [
              "<div>\n",
              "<style scoped>\n",
              "    .dataframe tbody tr th:only-of-type {\n",
              "        vertical-align: middle;\n",
              "    }\n",
              "\n",
              "    .dataframe tbody tr th {\n",
              "        vertical-align: top;\n",
              "    }\n",
              "\n",
              "    .dataframe thead th {\n",
              "        text-align: right;\n",
              "    }\n",
              "</style>\n",
              "<table border=\"1\" class=\"dataframe\">\n",
              "  <thead>\n",
              "    <tr style=\"text-align: right;\">\n",
              "      <th></th>\n",
              "      <th>state</th>\n",
              "      <th>vax_rate</th>\n",
              "    </tr>\n",
              "  </thead>\n",
              "  <tbody>\n",
              "    <tr>\n",
              "      <th>192</th>\n",
              "      <td>Alabama</td>\n",
              "      <td>33.92</td>\n",
              "    </tr>\n",
              "    <tr>\n",
              "      <th>385</th>\n",
              "      <td>Alaska</td>\n",
              "      <td>45.17</td>\n",
              "    </tr>\n",
              "  </tbody>\n",
              "</table>\n",
              "</div>"
            ],
            "text/plain": [
              "       state  vax_rate\n",
              "192  Alabama     33.92\n",
              "385   Alaska     45.17"
            ]
          },
          "metadata": {
            "tags": []
          },
          "execution_count": 55
        }
      ]
    },
    {
      "cell_type": "code",
      "metadata": {
        "colab": {
          "base_uri": "https://localhost:8080/",
          "height": 204
        },
        "id": "_4ed1Co2AkkQ",
        "outputId": "dff51a3c-ad57-49df-b0f6-eb9384cfc2aa"
      },
      "source": [
        "df_7 = df_7.merge(us_vax)\n",
        "df_7.head()"
      ],
      "execution_count": 56,
      "outputs": [
        {
          "output_type": "execute_result",
          "data": {
            "text/html": [
              "<div>\n",
              "<style scoped>\n",
              "    .dataframe tbody tr th:only-of-type {\n",
              "        vertical-align: middle;\n",
              "    }\n",
              "\n",
              "    .dataframe tbody tr th {\n",
              "        vertical-align: top;\n",
              "    }\n",
              "\n",
              "    .dataframe thead th {\n",
              "        text-align: right;\n",
              "    }\n",
              "</style>\n",
              "<table border=\"1\" class=\"dataframe\">\n",
              "  <thead>\n",
              "    <tr style=\"text-align: right;\">\n",
              "      <th></th>\n",
              "      <th>state</th>\n",
              "      <th>confirmed</th>\n",
              "      <th>deaths</th>\n",
              "      <th>POPULATION</th>\n",
              "      <th>confirmed_per_m</th>\n",
              "      <th>deaths_per_m</th>\n",
              "      <th>vax_rate</th>\n",
              "    </tr>\n",
              "  </thead>\n",
              "  <tbody>\n",
              "    <tr>\n",
              "      <th>0</th>\n",
              "      <td>Louisiana</td>\n",
              "      <td>15376</td>\n",
              "      <td>68.0</td>\n",
              "      <td>4648794</td>\n",
              "      <td>3307.524489</td>\n",
              "      <td>14.627450</td>\n",
              "      <td>36.43</td>\n",
              "    </tr>\n",
              "    <tr>\n",
              "      <th>1</th>\n",
              "      <td>Arkansas</td>\n",
              "      <td>9088</td>\n",
              "      <td>54.0</td>\n",
              "      <td>3017804</td>\n",
              "      <td>3011.461314</td>\n",
              "      <td>17.893806</td>\n",
              "      <td>35.70</td>\n",
              "    </tr>\n",
              "    <tr>\n",
              "      <th>2</th>\n",
              "      <td>Missouri</td>\n",
              "      <td>14518</td>\n",
              "      <td>68.0</td>\n",
              "      <td>6137428</td>\n",
              "      <td>2365.485998</td>\n",
              "      <td>11.079560</td>\n",
              "      <td>40.59</td>\n",
              "    </tr>\n",
              "    <tr>\n",
              "      <th>3</th>\n",
              "      <td>Florida</td>\n",
              "      <td>45449</td>\n",
              "      <td>231.0</td>\n",
              "      <td>21477737</td>\n",
              "      <td>2116.098172</td>\n",
              "      <td>10.755323</td>\n",
              "      <td>48.15</td>\n",
              "    </tr>\n",
              "    <tr>\n",
              "      <th>4</th>\n",
              "      <td>Nevada</td>\n",
              "      <td>5810</td>\n",
              "      <td>45.0</td>\n",
              "      <td>3080156</td>\n",
              "      <td>1886.268098</td>\n",
              "      <td>14.609650</td>\n",
              "      <td>43.72</td>\n",
              "    </tr>\n",
              "  </tbody>\n",
              "</table>\n",
              "</div>"
            ],
            "text/plain": [
              "       state  confirmed  deaths  ...  confirmed_per_m  deaths_per_m  vax_rate\n",
              "0  Louisiana      15376    68.0  ...      3307.524489     14.627450     36.43\n",
              "1   Arkansas       9088    54.0  ...      3011.461314     17.893806     35.70\n",
              "2   Missouri      14518    68.0  ...      2365.485998     11.079560     40.59\n",
              "3    Florida      45449   231.0  ...      2116.098172     10.755323     48.15\n",
              "4     Nevada       5810    45.0  ...      1886.268098     14.609650     43.72\n",
              "\n",
              "[5 rows x 7 columns]"
            ]
          },
          "metadata": {
            "tags": []
          },
          "execution_count": 56
        }
      ]
    },
    {
      "cell_type": "code",
      "metadata": {
        "colab": {
          "base_uri": "https://localhost:8080/",
          "height": 339
        },
        "id": "PoChh2D_BeG0",
        "outputId": "b742419d-6b24-4c41-9dec-67bdf80ee31f"
      },
      "source": [
        "sns.set(rc={'figure.figsize':(5,5)})\n",
        "sns.scatterplot(data=df_7, x='confirmed_per_m', y='vax_rate');"
      ],
      "execution_count": 57,
      "outputs": [
        {
          "output_type": "display_data",
          "data": {
            "image/png": "[encoded data removed]",
            "text/plain": [
              "<Figure size 360x360 with 1 Axes>"
            ]
          },
          "metadata": {
            "tags": []
          }
        }
      ]
    },
    {
      "cell_type": "code",
      "metadata": {
        "colab": {
          "base_uri": "https://localhost:8080/",
          "height": 382
        },
        "id": "Bawa-dokBfj-",
        "outputId": "8f2798b0-89fe-4006-9b91-8fe2b75d5515"
      },
      "source": [
        "sns.lmplot(x=\"confirmed_per_m\", y=\"vax_rate\", data=df_7);"
      ],
      "execution_count": 58,
      "outputs": [
        {
          "output_type": "display_data",
          "data": {
            "image/png": "[encoded data removed]",
            "text/plain": [
              "<Figure size 360x360 with 1 Axes>"
            ]
          },
          "metadata": {
            "tags": []
          }
        }
      ]
    },
    {
      "cell_type": "code",
      "metadata": {
        "colab": {
          "base_uri": "https://localhost:8080/",
          "height": 436
        },
        "id": "HV2SP0WsBg5N",
        "outputId": "6cc01567-4c22-4dbb-9ff4-8249641f28c1"
      },
      "source": [
        "sns.lmplot(x=\"confirmed_per_m\", y=\"vax_rate\", data=df_7,\n",
        "           lowess=True);"
      ],
      "execution_count": 59,
      "outputs": [
        {
          "output_type": "stream",
          "text": [
            "/usr/local/lib/python3.7/dist-packages/statsmodels/tools/_testing.py:19: FutureWarning: pandas.util.testing is deprecated. Use the functions in the public API at pandas.testing instead.\n",
            "  import pandas.util.testing as tm\n"
          ],
          "name": "stderr"
        },
        {
          "output_type": "display_data",
          "data": {
            "image/png": "[encoded data removed]",
            "text/plain": [
              "<Figure size 360x360 with 1 Axes>"
            ]
          },
          "metadata": {
            "tags": []
          }
        }
      ]
    },
    {
      "cell_type": "code",
      "metadata": {
        "id": "fSPDXBiGBiRo"
      },
      "source": [
        "# Install and import the package\n",
        "!pip install plotly_express -q\n",
        "import plotly_express as px"
      ],
      "execution_count": 60,
      "outputs": []
    },
    {
      "cell_type": "code",
      "metadata": {
        "colab": {
          "base_uri": "https://localhost:8080/",
          "height": 542
        },
        "id": "4e0tooTaBjtl",
        "outputId": "bd363b3a-c660-4198-dab3-69c66d0a7e22"
      },
      "source": [
        "fig = px.scatter(df_7, x=\"confirmed_per_m\", y=\"vax_rate\", color=\"state\")\n",
        "fig.show()"
      ],
      "execution_count": 61,
      "outputs": [
        {
          "output_type": "display_data",
          "data": {
            "text/html": [
              "<html>\n",
              "<head><meta charset=\"utf-8\" /></head>\n",
              "<body>\n",
              "    <div>\n",
              "            <script src=\"https://cdnjs.cloudflare.com/ajax/libs/mathjax/2.7.5/MathJax.js?config=TeX-AMS-MML_SVG\"></script><script type=\"text/javascript\">if (window.MathJax) {MathJax.Hub.Config({SVG: {font: \"STIX-Web\"}});}</script>\n",
              "                <script type=\"text/javascript\">window.PlotlyConfig = {MathJaxConfig: 'local'};</script>\n",
              "        <script src=\"https://cdn.plot.ly/plotly-latest.min.js\"></script>    \n",
              "            <div id=\"9fdc73a0-4ce5-47b5-ba20-485efa2177b0\" class=\"plotly-graph-div\" style=\"height:525px; width:100%;\"></div>\n",
              "            <script type=\"text/javascript\">\n",
              "                \n",
              "                    window.PLOTLYENV=window.PLOTLYENV || {};\n",
              "                    \n",
              "                if (document.getElementById(\"9fdc73a0-4ce5-47b5-ba20-485efa2177b0\")) {\n",
              "                    Plotly.newPlot(\n",
              "                        '9fdc73a0-4ce5-47b5-ba20-485efa2177b0',\n",
              "                        [{\"hoverlabel\": {\"namelength\": 0}, \"hovertemplate\": \"state=Louisiana<br>confirmed_per_m=%{x}<br>vax_rate=%{y}\", \"legendgroup\": \"state=Louisiana\", \"marker\": {\"color\": \"#636efa\", \"symbol\": \"circle\"}, \"mode\": \"markers\", \"name\": \"state=Louisiana\", \"showlegend\": true, \"type\": \"scatter\", \"x\": [3307.524489147078], \"xaxis\": \"x\", \"y\": [36.43], \"yaxis\": \"y\"}, {\"hoverlabel\": {\"namelength\": 0}, \"hovertemplate\": \"state=Arkansas<br>confirmed_per_m=%{x}<br>vax_rate=%{y}\", \"legendgroup\": \"state=Arkansas\", \"marker\": {\"color\": \"#EF553B\", \"symbol\": \"circle\"}, \"mode\": \"markers\", \"name\": \"state=Arkansas\", \"showlegend\": true, \"type\": \"scatter\", \"x\": [3011.461314253676], \"xaxis\": \"x\", \"y\": [35.7], \"yaxis\": \"y\"}, {\"hoverlabel\": {\"namelength\": 0}, \"hovertemplate\": \"state=Missouri<br>confirmed_per_m=%{x}<br>vax_rate=%{y}\", \"legendgroup\": \"state=Missouri\", \"marker\": {\"color\": \"#00cc96\", \"symbol\": \"circle\"}, \"mode\": \"markers\", \"name\": \"state=Missouri\", \"showlegend\": true, \"type\": \"scatter\", \"x\": [2365.4859983693495], \"xaxis\": \"x\", \"y\": [40.59], \"yaxis\": \"y\"}, {\"hoverlabel\": {\"namelength\": 0}, \"hovertemplate\": \"state=Florida<br>confirmed_per_m=%{x}<br>vax_rate=%{y}\", \"legendgroup\": \"state=Florida\", \"marker\": {\"color\": \"#ab63fa\", \"symbol\": \"circle\"}, \"mode\": \"markers\", \"name\": \"state=Florida\", \"showlegend\": true, \"type\": \"scatter\", \"x\": [2116.0981717952873], \"xaxis\": \"x\", \"y\": [48.15], \"yaxis\": \"y\"}, {\"hoverlabel\": {\"namelength\": 0}, \"hovertemplate\": \"state=Nevada<br>confirmed_per_m=%{x}<br>vax_rate=%{y}\", \"legendgroup\": \"state=Nevada\", \"marker\": {\"color\": \"#FFA15A\", \"symbol\": \"circle\"}, \"mode\": \"markers\", \"name\": \"state=Nevada\", \"showlegend\": true, \"type\": \"scatter\", \"x\": [1886.2680981093165], \"xaxis\": \"x\", \"y\": [43.72], \"yaxis\": \"y\"}, {\"hoverlabel\": {\"namelength\": 0}, \"hovertemplate\": \"state=Mississippi<br>confirmed_per_m=%{x}<br>vax_rate=%{y}\", \"legendgroup\": \"state=Mississippi\", \"marker\": {\"color\": \"#19d3f3\", \"symbol\": \"circle\"}, \"mode\": \"markers\", \"name\": \"state=Mississippi\", \"showlegend\": true, \"type\": \"scatter\", \"x\": [1879.2741895651059], \"xaxis\": \"x\", \"y\": [34.02], \"yaxis\": \"y\"}, {\"hoverlabel\": {\"namelength\": 0}, \"hovertemplate\": \"state=Alaska<br>confirmed_per_m=%{x}<br>vax_rate=%{y}\", \"legendgroup\": \"state=Alaska\", \"marker\": {\"color\": \"#FF6692\", \"symbol\": \"circle\"}, \"mode\": \"markers\", \"name\": \"state=Alaska\", \"showlegend\": true, \"type\": \"scatter\", \"x\": [1669.070255418327], \"xaxis\": \"x\", \"y\": [45.17], \"yaxis\": \"y\"}, {\"hoverlabel\": {\"namelength\": 0}, \"hovertemplate\": \"state=Alabama<br>confirmed_per_m=%{x}<br>vax_rate=%{y}\", \"legendgroup\": \"state=Alabama\", \"marker\": {\"color\": \"#B6E880\", \"symbol\": \"circle\"}, \"mode\": \"markers\", \"name\": \"state=Alabama\", \"showlegend\": true, \"type\": \"scatter\", \"x\": [1617.7239896108347], \"xaxis\": \"x\", \"y\": [33.92], \"yaxis\": \"y\"}, {\"hoverlabel\": {\"namelength\": 0}, \"hovertemplate\": \"state=Oklahoma<br>confirmed_per_m=%{x}<br>vax_rate=%{y}\", \"legendgroup\": \"state=Oklahoma\", \"marker\": {\"color\": \"#FF97FF\", \"symbol\": \"circle\"}, \"mode\": \"markers\", \"name\": \"state=Oklahoma\", \"showlegend\": true, \"type\": \"scatter\", \"x\": [1547.9011597507285], \"xaxis\": \"x\", \"y\": [39.78], \"yaxis\": \"y\"}, {\"hoverlabel\": {\"namelength\": 0}, \"hovertemplate\": \"state=Wyoming<br>confirmed_per_m=%{x}<br>vax_rate=%{y}\", \"legendgroup\": \"state=Wyoming\", \"marker\": {\"color\": \"#FECB52\", \"symbol\": \"circle\"}, \"mode\": \"markers\", \"name\": \"state=Wyoming\", \"showlegend\": true, \"type\": \"scatter\", \"x\": [1185.294742716744], \"xaxis\": \"x\", \"y\": [36.27], \"yaxis\": \"y\"}, {\"hoverlabel\": {\"namelength\": 0}, \"hovertemplate\": \"state=Kansas<br>confirmed_per_m=%{x}<br>vax_rate=%{y}\", \"legendgroup\": \"state=Kansas\", \"marker\": {\"color\": \"#636efa\", \"symbol\": \"circle\"}, \"mode\": \"markers\", \"name\": \"state=Kansas\", \"showlegend\": true, \"type\": \"scatter\", \"x\": [1157.4447519216947], \"xaxis\": \"x\", \"y\": [43.31], \"yaxis\": \"y\"}, {\"hoverlabel\": {\"namelength\": 0}, \"hovertemplate\": \"state=California<br>confirmed_per_m=%{x}<br>vax_rate=%{y}\", \"legendgroup\": \"state=California\", \"marker\": {\"color\": \"#EF553B\", \"symbol\": \"circle\"}, \"mode\": \"markers\", \"name\": \"state=California\", \"showlegend\": true, \"type\": \"scatter\", \"x\": [1113.2251404837434], \"xaxis\": \"x\", \"y\": [52.12], \"yaxis\": \"y\"}, {\"hoverlabel\": {\"namelength\": 0}, \"hovertemplate\": \"state=Texas<br>confirmed_per_m=%{x}<br>vax_rate=%{y}\", \"legendgroup\": \"state=Texas\", \"marker\": {\"color\": \"#00cc96\", \"symbol\": \"circle\"}, \"mode\": \"markers\", \"name\": \"state=Texas\", \"showlegend\": true, \"type\": \"scatter\", \"x\": [1105.1224827416004], \"xaxis\": \"x\", \"y\": [43.2], \"yaxis\": \"y\"}, {\"hoverlabel\": {\"namelength\": 0}, \"hovertemplate\": \"state=Arizona<br>confirmed_per_m=%{x}<br>vax_rate=%{y}\", \"legendgroup\": \"state=Arizona\", \"marker\": {\"color\": \"#ab63fa\", \"symbol\": \"circle\"}, \"mode\": \"markers\", \"name\": \"state=Arizona\", \"showlegend\": true, \"type\": \"scatter\", \"x\": [1069.9687870815696], \"xaxis\": \"x\", \"y\": [44.78], \"yaxis\": \"y\"}, {\"hoverlabel\": {\"namelength\": 0}, \"hovertemplate\": \"state=Utah<br>confirmed_per_m=%{x}<br>vax_rate=%{y}\", \"legendgroup\": \"state=Utah\", \"marker\": {\"color\": \"#FFA15A\", \"symbol\": \"circle\"}, \"mode\": \"markers\", \"name\": \"state=Utah\", \"showlegend\": true, \"type\": \"scatter\", \"x\": [979.7383496602263], \"xaxis\": \"x\", \"y\": [44.21], \"yaxis\": \"y\"}, {\"hoverlabel\": {\"namelength\": 0}, \"hovertemplate\": \"state=Georgia<br>confirmed_per_m=%{x}<br>vax_rate=%{y}\", \"legendgroup\": \"state=Georgia\", \"marker\": {\"color\": \"#19d3f3\", \"symbol\": \"circle\"}, \"mode\": \"markers\", \"name\": \"state=Georgia\", \"showlegend\": true, \"type\": \"scatter\", \"x\": [971.7989007313734], \"xaxis\": \"x\", \"y\": [38.03], \"yaxis\": \"y\"}, {\"hoverlabel\": {\"namelength\": 0}, \"hovertemplate\": \"state=Kentucky<br>confirmed_per_m=%{x}<br>vax_rate=%{y}\", \"legendgroup\": \"state=Kentucky\", \"marker\": {\"color\": \"#FF6692\", \"symbol\": \"circle\"}, \"mode\": \"markers\", \"name\": \"state=Kentucky\", \"showlegend\": true, \"type\": \"scatter\", \"x\": [960.0075923193125], \"xaxis\": \"x\", \"y\": [45.07], \"yaxis\": \"y\"}, {\"hoverlabel\": {\"namelength\": 0}, \"hovertemplate\": \"state=Tennessee<br>confirmed_per_m=%{x}<br>vax_rate=%{y}\", \"legendgroup\": \"state=Tennessee\", \"marker\": {\"color\": \"#B6E880\", \"symbol\": \"circle\"}, \"mode\": \"markers\", \"name\": \"state=Tennessee\", \"showlegend\": true, \"type\": \"scatter\", \"x\": [926.6127938752184], \"xaxis\": \"x\", \"y\": [38.68], \"yaxis\": \"y\"}, {\"hoverlabel\": {\"namelength\": 0}, \"hovertemplate\": \"state=Washington<br>confirmed_per_m=%{x}<br>vax_rate=%{y}\", \"legendgroup\": \"state=Washington\", \"marker\": {\"color\": \"#FF97FF\", \"symbol\": \"circle\"}, \"mode\": \"markers\", \"name\": \"state=Washington\", \"showlegend\": true, \"type\": \"scatter\", \"x\": [892.0676889353534], \"xaxis\": \"x\", \"y\": [57.0], \"yaxis\": \"y\"}, {\"hoverlabel\": {\"namelength\": 0}, \"hovertemplate\": \"state=South Carolina<br>confirmed_per_m=%{x}<br>vax_rate=%{y}\", \"legendgroup\": \"state=South Carolina\", \"marker\": {\"color\": \"#FECB52\", \"symbol\": \"circle\"}, \"mode\": \"markers\", \"name\": \"state=South Carolina\", \"showlegend\": true, \"type\": \"scatter\", \"x\": [846.4249519394551], \"xaxis\": \"x\", \"y\": [40.15], \"yaxis\": \"y\"}, {\"hoverlabel\": {\"namelength\": 0}, \"hovertemplate\": \"state=North Carolina<br>confirmed_per_m=%{x}<br>vax_rate=%{y}\", \"legendgroup\": \"state=North Carolina\", \"marker\": {\"color\": \"#636efa\", \"symbol\": \"circle\"}, \"mode\": \"markers\", \"name\": \"state=North Carolina\", \"showlegend\": true, \"type\": \"scatter\", \"x\": [770.2074087125923], \"xaxis\": \"x\", \"y\": [43.27], \"yaxis\": \"y\"}, {\"hoverlabel\": {\"namelength\": 0}, \"hovertemplate\": \"state=Hawaii<br>confirmed_per_m=%{x}<br>vax_rate=%{y}\", \"legendgroup\": \"state=Hawaii\", \"marker\": {\"color\": \"#EF553B\", \"symbol\": \"circle\"}, \"mode\": \"markers\", \"name\": \"state=Hawaii\", \"showlegend\": true, \"type\": \"scatter\", \"x\": [757.836866609411], \"xaxis\": \"x\", \"y\": [53.18], \"yaxis\": \"y\"}, {\"hoverlabel\": {\"namelength\": 0}, \"hovertemplate\": \"state=Idaho<br>confirmed_per_m=%{x}<br>vax_rate=%{y}\", \"legendgroup\": \"state=Idaho\", \"marker\": {\"color\": \"#00cc96\", \"symbol\": \"circle\"}, \"mode\": \"markers\", \"name\": \"state=Idaho\", \"showlegend\": true, \"type\": \"scatter\", \"x\": [738.081714990781], \"xaxis\": \"x\", \"y\": [37.07], \"yaxis\": \"y\"}, {\"hoverlabel\": {\"namelength\": 0}, \"hovertemplate\": \"state=Colorado<br>confirmed_per_m=%{x}<br>vax_rate=%{y}\", \"legendgroup\": \"state=Colorado\", \"marker\": {\"color\": \"#ab63fa\", \"symbol\": \"circle\"}, \"mode\": \"markers\", \"name\": \"state=Colorado\", \"showlegend\": true, \"type\": \"scatter\", \"x\": [679.1420895140878], \"xaxis\": \"x\", \"y\": [53.85], \"yaxis\": \"y\"}, {\"hoverlabel\": {\"namelength\": 0}, \"hovertemplate\": \"state=Oregon<br>confirmed_per_m=%{x}<br>vax_rate=%{y}\", \"legendgroup\": \"state=Oregon\", \"marker\": {\"color\": \"#FFA15A\", \"symbol\": \"circle\"}, \"mode\": \"markers\", \"name\": \"state=Oregon\", \"showlegend\": true, \"type\": \"scatter\", \"x\": [624.0313229582594], \"xaxis\": \"x\", \"y\": [55.51], \"yaxis\": \"y\"}, {\"hoverlabel\": {\"namelength\": 0}, \"hovertemplate\": \"state=Indiana<br>confirmed_per_m=%{x}<br>vax_rate=%{y}\", \"legendgroup\": \"state=Indiana\", \"marker\": {\"color\": \"#19d3f3\", \"symbol\": \"circle\"}, \"mode\": \"markers\", \"name\": \"state=Indiana\", \"showlegend\": true, \"type\": \"scatter\", \"x\": [604.555496486374], \"xaxis\": \"x\", \"y\": [43.8], \"yaxis\": \"y\"}, {\"hoverlabel\": {\"namelength\": 0}, \"hovertemplate\": \"state=New Mexico<br>confirmed_per_m=%{x}<br>vax_rate=%{y}\", \"legendgroup\": \"state=New Mexico\", \"marker\": {\"color\": \"#FF6692\", \"symbol\": \"circle\"}, \"mode\": \"markers\", \"name\": \"state=New Mexico\", \"showlegend\": true, \"type\": \"scatter\", \"x\": [591.8460685158399], \"xaxis\": \"x\", \"y\": [56.54], \"yaxis\": \"y\"}, {\"hoverlabel\": {\"namelength\": 0}, \"hovertemplate\": \"state=Illinois<br>confirmed_per_m=%{x}<br>vax_rate=%{y}\", \"legendgroup\": \"state=Illinois\", \"marker\": {\"color\": \"#B6E880\", \"symbol\": \"circle\"}, \"mode\": \"markers\", \"name\": \"state=Illinois\", \"showlegend\": true, \"type\": \"scatter\", \"x\": [567.3217764045121], \"xaxis\": \"x\", \"y\": [48.01], \"yaxis\": \"y\"}, {\"hoverlabel\": {\"namelength\": 0}, \"hovertemplate\": \"state=Montana<br>confirmed_per_m=%{x}<br>vax_rate=%{y}\", \"legendgroup\": \"state=Montana\", \"marker\": {\"color\": \"#FF97FF\", \"symbol\": \"circle\"}, \"mode\": \"markers\", \"name\": \"state=Montana\", \"showlegend\": true, \"type\": \"scatter\", \"x\": [530.512416984631], \"xaxis\": \"x\", \"y\": [44.01], \"yaxis\": \"y\"}, {\"hoverlabel\": {\"namelength\": 0}, \"hovertemplate\": \"state=Nebraska<br>confirmed_per_m=%{x}<br>vax_rate=%{y}\", \"legendgroup\": \"state=Nebraska\", \"marker\": {\"color\": \"#FECB52\", \"symbol\": \"circle\"}, \"mode\": \"markers\", \"name\": \"state=Nebraska\", \"showlegend\": true, \"type\": \"scatter\", \"x\": [462.6738516383307], \"xaxis\": \"x\", \"y\": [48.94], \"yaxis\": \"y\"}, {\"hoverlabel\": {\"namelength\": 0}, \"hovertemplate\": \"state=District of Columbia<br>confirmed_per_m=%{x}<br>vax_rate=%{y}\", \"legendgroup\": \"state=District of Columbia\", \"marker\": {\"color\": \"#636efa\", \"symbol\": \"circle\"}, \"mode\": \"markers\", \"name\": \"state=District of Columbia\", \"showlegend\": true, \"type\": \"scatter\", \"x\": [446.3343199919518], \"xaxis\": \"x\", \"y\": [54.22], \"yaxis\": \"y\"}, {\"hoverlabel\": {\"namelength\": 0}, \"hovertemplate\": \"state=Iowa<br>confirmed_per_m=%{x}<br>vax_rate=%{y}\", \"legendgroup\": \"state=Iowa\", \"marker\": {\"color\": \"#EF553B\", \"symbol\": \"circle\"}, \"mode\": \"markers\", \"name\": \"state=Iowa\", \"showlegend\": true, \"type\": \"scatter\", \"x\": [442.14549914898873], \"xaxis\": \"x\", \"y\": [49.26], \"yaxis\": \"y\"}, {\"hoverlabel\": {\"namelength\": 0}, \"hovertemplate\": \"state=New Jersey<br>confirmed_per_m=%{x}<br>vax_rate=%{y}\", \"legendgroup\": \"state=New Jersey\", \"marker\": {\"color\": \"#00cc96\", \"symbol\": \"circle\"}, \"mode\": \"markers\", \"name\": \"state=New Jersey\", \"showlegend\": true, \"type\": \"scatter\", \"x\": [437.50471449045784], \"xaxis\": \"x\", \"y\": [57.48], \"yaxis\": \"y\"}, {\"hoverlabel\": {\"namelength\": 0}, \"hovertemplate\": \"state=Virginia<br>confirmed_per_m=%{x}<br>vax_rate=%{y}\", \"legendgroup\": \"state=Virginia\", \"marker\": {\"color\": \"#ab63fa\", \"symbol\": \"circle\"}, \"mode\": \"markers\", \"name\": \"state=Virginia\", \"showlegend\": true, \"type\": \"scatter\", \"x\": [409.5825924586426], \"xaxis\": \"x\", \"y\": [53.92], \"yaxis\": \"y\"}, {\"hoverlabel\": {\"namelength\": 0}, \"hovertemplate\": \"state=Rhode Island<br>confirmed_per_m=%{x}<br>vax_rate=%{y}\", \"legendgroup\": \"state=Rhode Island\", \"marker\": {\"color\": \"#FFA15A\", \"symbol\": \"circle\"}, \"mode\": \"markers\", \"name\": \"state=Rhode Island\", \"showlegend\": true, \"type\": \"scatter\", \"x\": [404.01713863357253], \"xaxis\": \"x\", \"y\": [60.85], \"yaxis\": \"y\"}, {\"hoverlabel\": {\"namelength\": 0}, \"hovertemplate\": \"state=West Virginia<br>confirmed_per_m=%{x}<br>vax_rate=%{y}\", \"legendgroup\": \"state=West Virginia\", \"marker\": {\"color\": \"#19d3f3\", \"symbol\": \"circle\"}, \"mode\": \"markers\", \"name\": \"state=West Virginia\", \"showlegend\": true, \"type\": \"scatter\", \"x\": [379.9911502795251], \"xaxis\": \"x\", \"y\": [38.91], \"yaxis\": \"y\"}, {\"hoverlabel\": {\"namelength\": 0}, \"hovertemplate\": \"state=Massachusetts<br>confirmed_per_m=%{x}<br>vax_rate=%{y}\", \"legendgroup\": \"state=Massachusetts\", \"marker\": {\"color\": \"#FF6692\", \"symbol\": \"circle\"}, \"mode\": \"markers\", \"name\": \"state=Massachusetts\", \"showlegend\": true, \"type\": \"scatter\", \"x\": [376.49602764046676], \"xaxis\": \"x\", \"y\": [63.42], \"yaxis\": \"y\"}, {\"hoverlabel\": {\"namelength\": 0}, \"hovertemplate\": \"state=Ohio<br>confirmed_per_m=%{x}<br>vax_rate=%{y}\", \"legendgroup\": \"state=Ohio\", \"marker\": {\"color\": \"#B6E880\", \"symbol\": \"circle\"}, \"mode\": \"markers\", \"name\": \"state=Ohio\", \"showlegend\": true, \"type\": \"scatter\", \"x\": [370.5161218571148], \"xaxis\": \"x\", \"y\": [46.08], \"yaxis\": \"y\"}, {\"hoverlabel\": {\"namelength\": 0}, \"hovertemplate\": \"state=Connecticut<br>confirmed_per_m=%{x}<br>vax_rate=%{y}\", \"legendgroup\": \"state=Connecticut\", \"marker\": {\"color\": \"#FF97FF\", \"symbol\": \"circle\"}, \"mode\": \"markers\", \"name\": \"state=Connecticut\", \"showlegend\": true, \"type\": \"scatter\", \"x\": [361.5417216061428], \"xaxis\": \"x\", \"y\": [62.7], \"yaxis\": \"y\"}, {\"hoverlabel\": {\"namelength\": 0}, \"hovertemplate\": \"state=Delaware<br>confirmed_per_m=%{x}<br>vax_rate=%{y}\", \"legendgroup\": \"state=Delaware\", \"marker\": {\"color\": \"#FECB52\", \"symbol\": \"circle\"}, \"mode\": \"markers\", \"name\": \"state=Delaware\", \"showlegend\": true, \"type\": \"scatter\", \"x\": [351.21446264187216], \"xaxis\": \"x\", \"y\": [52.11], \"yaxis\": \"y\"}, {\"hoverlabel\": {\"namelength\": 0}, \"hovertemplate\": \"state=Wisconsin<br>confirmed_per_m=%{x}<br>vax_rate=%{y}\", \"legendgroup\": \"state=Wisconsin\", \"marker\": {\"color\": \"#636efa\", \"symbol\": \"circle\"}, \"mode\": \"markers\", \"name\": \"state=Wisconsin\", \"showlegend\": true, \"type\": \"scatter\", \"x\": [336.28547786029003], \"xaxis\": \"x\", \"y\": [51.36], \"yaxis\": \"y\"}, {\"hoverlabel\": {\"namelength\": 0}, \"hovertemplate\": \"state=Minnesota<br>confirmed_per_m=%{x}<br>vax_rate=%{y}\", \"legendgroup\": \"state=Minnesota\", \"marker\": {\"color\": \"#EF553B\", \"symbol\": \"circle\"}, \"mode\": \"markers\", \"name\": \"state=Minnesota\", \"showlegend\": true, \"type\": \"scatter\", \"x\": [308.17613631527735], \"xaxis\": \"x\", \"y\": [53.35], \"yaxis\": \"y\"}, {\"hoverlabel\": {\"namelength\": 0}, \"hovertemplate\": \"state=Maine<br>confirmed_per_m=%{x}<br>vax_rate=%{y}\", \"legendgroup\": \"state=Maine\", \"marker\": {\"color\": \"#00cc96\", \"symbol\": \"circle\"}, \"mode\": \"markers\", \"name\": \"state=Maine\", \"showlegend\": true, \"type\": \"scatter\", \"x\": [302.7796210716762], \"xaxis\": \"x\", \"y\": [63.09], \"yaxis\": \"y\"}, {\"hoverlabel\": {\"namelength\": 0}, \"hovertemplate\": \"state=Pennsylvania<br>confirmed_per_m=%{x}<br>vax_rate=%{y}\", \"legendgroup\": \"state=Pennsylvania\", \"marker\": {\"color\": \"#ab63fa\", \"symbol\": \"circle\"}, \"mode\": \"markers\", \"name\": \"state=Pennsylvania\", \"showlegend\": true, \"type\": \"scatter\", \"x\": [258.08489602670335], \"xaxis\": \"x\", \"y\": [51.66], \"yaxis\": \"y\"}, {\"hoverlabel\": {\"namelength\": 0}, \"hovertemplate\": \"state=Maryland<br>confirmed_per_m=%{x}<br>vax_rate=%{y}\", \"legendgroup\": \"state=Maryland\", \"marker\": {\"color\": \"#FFA15A\", \"symbol\": \"circle\"}, \"mode\": \"markers\", \"name\": \"state=Maryland\", \"showlegend\": true, \"type\": \"scatter\", \"x\": [227.10431250082704], \"xaxis\": \"x\", \"y\": [58.22], \"yaxis\": \"y\"}, {\"hoverlabel\": {\"namelength\": 0}, \"hovertemplate\": \"state=North Dakota<br>confirmed_per_m=%{x}<br>vax_rate=%{y}\", \"legendgroup\": \"state=North Dakota\", \"marker\": {\"color\": \"#19d3f3\", \"symbol\": \"circle\"}, \"mode\": \"markers\", \"name\": \"state=North Dakota\", \"showlegend\": true, \"type\": \"scatter\", \"x\": [221.76673289049972], \"xaxis\": \"x\", \"y\": [39.79], \"yaxis\": \"y\"}, {\"hoverlabel\": {\"namelength\": 0}, \"hovertemplate\": \"state=South Dakota<br>confirmed_per_m=%{x}<br>vax_rate=%{y}\", \"legendgroup\": \"state=South Dakota\", \"marker\": {\"color\": \"#FF6692\", \"symbol\": \"circle\"}, \"mode\": \"markers\", \"name\": \"state=South Dakota\", \"showlegend\": true, \"type\": \"scatter\", \"x\": [221.5542938013404], \"xaxis\": \"x\", \"y\": [46.55], \"yaxis\": \"y\"}, {\"hoverlabel\": {\"namelength\": 0}, \"hovertemplate\": \"state=Michigan<br>confirmed_per_m=%{x}<br>vax_rate=%{y}\", \"legendgroup\": \"state=Michigan\", \"marker\": {\"color\": \"#B6E880\", \"symbol\": \"circle\"}, \"mode\": \"markers\", \"name\": \"state=Michigan\", \"showlegend\": true, \"type\": \"scatter\", \"x\": [213.5807091260043], \"xaxis\": \"x\", \"y\": [48.5], \"yaxis\": \"y\"}, {\"hoverlabel\": {\"namelength\": 0}, \"hovertemplate\": \"state=Vermont<br>confirmed_per_m=%{x}<br>vax_rate=%{y}\", \"legendgroup\": \"state=Vermont\", \"marker\": {\"color\": \"#FF97FF\", \"symbol\": \"circle\"}, \"mode\": \"markers\", \"name\": \"state=Vermont\", \"showlegend\": true, \"type\": \"scatter\", \"x\": [189.1058977001197], \"xaxis\": \"x\", \"y\": [67.17], \"yaxis\": \"y\"}, {\"hoverlabel\": {\"namelength\": 0}, \"hovertemplate\": \"state=New Hampshire<br>confirmed_per_m=%{x}<br>vax_rate=%{y}\", \"legendgroup\": \"state=New Hampshire\", \"marker\": {\"color\": \"#FECB52\", \"symbol\": \"circle\"}, \"mode\": \"markers\", \"name\": \"state=New Hampshire\", \"showlegend\": true, \"type\": \"scatter\", \"x\": [169.88904259802266], \"xaxis\": \"x\", \"y\": [57.9], \"yaxis\": \"y\"}],\n",
              "                        {\"legend\": {\"tracegroupgap\": 0}, \"margin\": {\"t\": 60}, \"template\": {\"data\": {\"bar\": [{\"error_x\": {\"color\": \"#2a3f5f\"}, \"error_y\": {\"color\": \"#2a3f5f\"}, \"marker\": {\"line\": {\"color\": \"#E5ECF6\", \"width\": 0.5}}, \"type\": \"bar\"}], \"barpolar\": [{\"marker\": {\"line\": {\"color\": \"#E5ECF6\", \"width\": 0.5}}, \"type\": \"barpolar\"}], \"carpet\": [{\"aaxis\": {\"endlinecolor\": \"#2a3f5f\", \"gridcolor\": \"white\", \"linecolor\": \"white\", \"minorgridcolor\": \"white\", \"startlinecolor\": \"#2a3f5f\"}, \"baxis\": {\"endlinecolor\": \"#2a3f5f\", \"gridcolor\": \"white\", \"linecolor\": \"white\", \"minorgridcolor\": \"white\", \"startlinecolor\": \"#2a3f5f\"}, \"type\": \"carpet\"}], \"choropleth\": [{\"colorbar\": {\"outlinewidth\": 0, \"ticks\": \"\"}, \"type\": \"choropleth\"}], \"contour\": [{\"colorbar\": {\"outlinewidth\": 0, \"ticks\": \"\"}, \"colorscale\": [[0.0, \"#0d0887\"], [0.1111111111111111, \"#46039f\"], [0.2222222222222222, \"#7201a8\"], [0.3333333333333333, \"#9c179e\"], [0.4444444444444444, \"#bd3786\"], [0.5555555555555556, \"#d8576b\"], [0.6666666666666666, \"#ed7953\"], [0.7777777777777778, \"#fb9f3a\"], [0.8888888888888888, \"#fdca26\"], [1.0, \"#f0f921\"]], \"type\": \"contour\"}], \"contourcarpet\": [{\"colorbar\": {\"outlinewidth\": 0, \"ticks\": \"\"}, \"type\": \"contourcarpet\"}], \"heatmap\": [{\"colorbar\": {\"outlinewidth\": 0, \"ticks\": \"\"}, \"colorscale\": [[0.0, \"#0d0887\"], [0.1111111111111111, \"#46039f\"], [0.2222222222222222, \"#7201a8\"], [0.3333333333333333, \"#9c179e\"], [0.4444444444444444, \"#bd3786\"], [0.5555555555555556, \"#d8576b\"], [0.6666666666666666, \"#ed7953\"], [0.7777777777777778, \"#fb9f3a\"], [0.8888888888888888, \"#fdca26\"], [1.0, \"#f0f921\"]], \"type\": \"heatmap\"}], \"heatmapgl\": [{\"colorbar\": {\"outlinewidth\": 0, \"ticks\": \"\"}, \"colorscale\": [[0.0, \"#0d0887\"], [0.1111111111111111, \"#46039f\"], [0.2222222222222222, \"#7201a8\"], [0.3333333333333333, \"#9c179e\"], [0.4444444444444444, \"#bd3786\"], [0.5555555555555556, \"#d8576b\"], [0.6666666666666666, \"#ed7953\"], [0.7777777777777778, \"#fb9f3a\"], [0.8888888888888888, \"#fdca26\"], [1.0, \"#f0f921\"]], \"type\": \"heatmapgl\"}], \"histogram\": [{\"marker\": {\"colorbar\": {\"outlinewidth\": 0, \"ticks\": \"\"}}, \"type\": \"histogram\"}], \"histogram2d\": [{\"colorbar\": {\"outlinewidth\": 0, \"ticks\": \"\"}, \"colorscale\": [[0.0, \"#0d0887\"], [0.1111111111111111, \"#46039f\"], [0.2222222222222222, \"#7201a8\"], [0.3333333333333333, \"#9c179e\"], [0.4444444444444444, \"#bd3786\"], [0.5555555555555556, \"#d8576b\"], [0.6666666666666666, \"#ed7953\"], [0.7777777777777778, \"#fb9f3a\"], [0.8888888888888888, \"#fdca26\"], [1.0, \"#f0f921\"]], \"type\": \"histogram2d\"}], \"histogram2dcontour\": [{\"colorbar\": {\"outlinewidth\": 0, \"ticks\": \"\"}, \"colorscale\": [[0.0, \"#0d0887\"], [0.1111111111111111, \"#46039f\"], [0.2222222222222222, \"#7201a8\"], [0.3333333333333333, \"#9c179e\"], [0.4444444444444444, \"#bd3786\"], [0.5555555555555556, \"#d8576b\"], [0.6666666666666666, \"#ed7953\"], [0.7777777777777778, \"#fb9f3a\"], [0.8888888888888888, \"#fdca26\"], [1.0, \"#f0f921\"]], \"type\": \"histogram2dcontour\"}], \"mesh3d\": [{\"colorbar\": {\"outlinewidth\": 0, \"ticks\": \"\"}, \"type\": \"mesh3d\"}], \"parcoords\": [{\"line\": {\"colorbar\": {\"outlinewidth\": 0, \"ticks\": \"\"}}, \"type\": \"parcoords\"}], \"pie\": [{\"automargin\": true, \"type\": \"pie\"}], \"scatter\": [{\"marker\": {\"colorbar\": {\"outlinewidth\": 0, \"ticks\": \"\"}}, \"type\": \"scatter\"}], \"scatter3d\": [{\"line\": {\"colorbar\": {\"outlinewidth\": 0, \"ticks\": \"\"}}, \"marker\": {\"colorbar\": {\"outlinewidth\": 0, \"ticks\": \"\"}}, \"type\": \"scatter3d\"}], \"scattercarpet\": [{\"marker\": {\"colorbar\": {\"outlinewidth\": 0, \"ticks\": \"\"}}, \"type\": \"scattercarpet\"}], \"scattergeo\": [{\"marker\": {\"colorbar\": {\"outlinewidth\": 0, \"ticks\": \"\"}}, \"type\": \"scattergeo\"}], \"scattergl\": [{\"marker\": {\"colorbar\": {\"outlinewidth\": 0, \"ticks\": \"\"}}, \"type\": \"scattergl\"}], \"scattermapbox\": [{\"marker\": {\"colorbar\": {\"outlinewidth\": 0, \"ticks\": \"\"}}, \"type\": \"scattermapbox\"}], \"scatterpolar\": [{\"marker\": {\"colorbar\": {\"outlinewidth\": 0, \"ticks\": \"\"}}, \"type\": \"scatterpolar\"}], \"scatterpolargl\": [{\"marker\": {\"colorbar\": {\"outlinewidth\": 0, \"ticks\": \"\"}}, \"type\": \"scatterpolargl\"}], \"scatterternary\": [{\"marker\": {\"colorbar\": {\"outlinewidth\": 0, \"ticks\": \"\"}}, \"type\": \"scatterternary\"}], \"surface\": [{\"colorbar\": {\"outlinewidth\": 0, \"ticks\": \"\"}, \"colorscale\": [[0.0, \"#0d0887\"], [0.1111111111111111, \"#46039f\"], [0.2222222222222222, \"#7201a8\"], [0.3333333333333333, \"#9c179e\"], [0.4444444444444444, \"#bd3786\"], [0.5555555555555556, \"#d8576b\"], [0.6666666666666666, \"#ed7953\"], [0.7777777777777778, \"#fb9f3a\"], [0.8888888888888888, \"#fdca26\"], [1.0, \"#f0f921\"]], \"type\": \"surface\"}], \"table\": [{\"cells\": {\"fill\": {\"color\": \"#EBF0F8\"}, \"line\": {\"color\": \"white\"}}, \"header\": {\"fill\": {\"color\": \"#C8D4E3\"}, \"line\": {\"color\": \"white\"}}, \"type\": \"table\"}]}, \"layout\": {\"annotationdefaults\": {\"arrowcolor\": \"#2a3f5f\", \"arrowhead\": 0, \"arrowwidth\": 1}, \"coloraxis\": {\"colorbar\": {\"outlinewidth\": 0, \"ticks\": \"\"}}, \"colorscale\": {\"diverging\": [[0, \"#8e0152\"], [0.1, \"#c51b7d\"], [0.2, \"#de77ae\"], [0.3, \"#f1b6da\"], [0.4, \"#fde0ef\"], [0.5, \"#f7f7f7\"], [0.6, \"#e6f5d0\"], [0.7, \"#b8e186\"], [0.8, \"#7fbc41\"], [0.9, \"#4d9221\"], [1, \"#276419\"]], \"sequential\": [[0.0, \"#0d0887\"], [0.1111111111111111, \"#46039f\"], [0.2222222222222222, \"#7201a8\"], [0.3333333333333333, \"#9c179e\"], [0.4444444444444444, \"#bd3786\"], [0.5555555555555556, \"#d8576b\"], [0.6666666666666666, \"#ed7953\"], [0.7777777777777778, \"#fb9f3a\"], [0.8888888888888888, \"#fdca26\"], [1.0, \"#f0f921\"]], \"sequentialminus\": [[0.0, \"#0d0887\"], [0.1111111111111111, \"#46039f\"], [0.2222222222222222, \"#7201a8\"], [0.3333333333333333, \"#9c179e\"], [0.4444444444444444, \"#bd3786\"], [0.5555555555555556, \"#d8576b\"], [0.6666666666666666, \"#ed7953\"], [0.7777777777777778, \"#fb9f3a\"], [0.8888888888888888, \"#fdca26\"], [1.0, \"#f0f921\"]]}, \"colorway\": [\"#636efa\", \"#EF553B\", \"#00cc96\", \"#ab63fa\", \"#FFA15A\", \"#19d3f3\", \"#FF6692\", \"#B6E880\", \"#FF97FF\", \"#FECB52\"], \"font\": {\"color\": \"#2a3f5f\"}, \"geo\": {\"bgcolor\": \"white\", \"lakecolor\": \"white\", \"landcolor\": \"#E5ECF6\", \"showlakes\": true, \"showland\": true, \"subunitcolor\": \"white\"}, \"hoverlabel\": {\"align\": \"left\"}, \"hovermode\": \"closest\", \"mapbox\": {\"style\": \"light\"}, \"paper_bgcolor\": \"white\", \"plot_bgcolor\": \"#E5ECF6\", \"polar\": {\"angularaxis\": {\"gridcolor\": \"white\", \"linecolor\": \"white\", \"ticks\": \"\"}, \"bgcolor\": \"#E5ECF6\", \"radialaxis\": {\"gridcolor\": \"white\", \"linecolor\": \"white\", \"ticks\": \"\"}}, \"scene\": {\"xaxis\": {\"backgroundcolor\": \"#E5ECF6\", \"gridcolor\": \"white\", \"gridwidth\": 2, \"linecolor\": \"white\", \"showbackground\": true, \"ticks\": \"\", \"zerolinecolor\": \"white\"}, \"yaxis\": {\"backgroundcolor\": \"#E5ECF6\", \"gridcolor\": \"white\", \"gridwidth\": 2, \"linecolor\": \"white\", \"showbackground\": true, \"ticks\": \"\", \"zerolinecolor\": \"white\"}, \"zaxis\": {\"backgroundcolor\": \"#E5ECF6\", \"gridcolor\": \"white\", \"gridwidth\": 2, \"linecolor\": \"white\", \"showbackground\": true, \"ticks\": \"\", \"zerolinecolor\": \"white\"}}, \"shapedefaults\": {\"line\": {\"color\": \"#2a3f5f\"}}, \"ternary\": {\"aaxis\": {\"gridcolor\": \"white\", \"linecolor\": \"white\", \"ticks\": \"\"}, \"baxis\": {\"gridcolor\": \"white\", \"linecolor\": \"white\", \"ticks\": \"\"}, \"bgcolor\": \"#E5ECF6\", \"caxis\": {\"gridcolor\": \"white\", \"linecolor\": \"white\", \"ticks\": \"\"}}, \"title\": {\"x\": 0.05}, \"xaxis\": {\"automargin\": true, \"gridcolor\": \"white\", \"linecolor\": \"white\", \"ticks\": \"\", \"title\": {\"standoff\": 15}, \"zerolinecolor\": \"white\", \"zerolinewidth\": 2}, \"yaxis\": {\"automargin\": true, \"gridcolor\": \"white\", \"linecolor\": \"white\", \"ticks\": \"\", \"title\": {\"standoff\": 15}, \"zerolinecolor\": \"white\", \"zerolinewidth\": 2}}}, \"xaxis\": {\"anchor\": \"y\", \"domain\": [0.0, 1.0], \"title\": {\"text\": \"confirmed_per_m\"}}, \"yaxis\": {\"anchor\": \"x\", \"domain\": [0.0, 1.0], \"title\": {\"text\": \"vax_rate\"}}},\n",
              "                        {\"responsive\": true}\n",
              "                    ).then(function(){\n",
              "                            \n",
              "var gd = document.getElementById('9fdc73a0-4ce5-47b5-ba20-485efa2177b0');\n",
              "var x = new MutationObserver(function (mutations, observer) {{\n",
              "        var display = window.getComputedStyle(gd).display;\n",
              "        if (!display || display === 'none') {{\n",
              "            console.log([gd, 'removed!']);\n",
              "            Plotly.purge(gd);\n",
              "            observer.disconnect();\n",
              "        }}\n",
              "}});\n",
              "\n",
              "// Listen for the removal of the full notebook cells\n",
              "var notebookContainer = gd.closest('#notebook-container');\n",
              "if (notebookContainer) {{\n",
              "    x.observe(notebookContainer, {childList: true});\n",
              "}}\n",
              "\n",
              "// Listen for the clearing of the current output cell\n",
              "var outputEl = gd.closest('.output');\n",
              "if (outputEl) {{\n",
              "    x.observe(outputEl, {childList: true});\n",
              "}}\n",
              "\n",
              "                        })\n",
              "                };\n",
              "                \n",
              "            </script>\n",
              "        </div>\n",
              "</body>\n",
              "</html>"
            ]
          },
          "metadata": {
            "tags": []
          }
        }
      ]
    },
    {
      "cell_type": "code",
      "metadata": {
        "colab": {
          "base_uri": "https://localhost:8080/"
        },
        "id": "IVkuhZGzBk9A",
        "outputId": "58a8315c-0ae6-419e-e1fd-90181b722868"
      },
      "source": [
        "# Correlation\n",
        "df_7['confirmed_per_m'].corr(df_7['vax_rate'])"
      ],
      "execution_count": 62,
      "outputs": [
        {
          "output_type": "execute_result",
          "data": {
            "text/plain": [
              "-0.5864026947199409"
            ]
          },
          "metadata": {
            "tags": []
          },
          "execution_count": 62
        }
      ]
    },
    {
      "cell_type": "code",
      "metadata": {
        "colab": {
          "base_uri": "https://localhost:8080/",
          "height": 80
        },
        "id": "52NHrxFHBmfn",
        "outputId": "40bc3e99-54d7-4a5e-b586-232d81fedd32"
      },
      "source": [
        "abbrevs = pd.read_csv('https://raw.githubusercontent.com/soltaniehha/Business-Analytics/master/data/state-abbrevs.csv')\n",
        "abbrevs.head(1)"
      ],
      "execution_count": 63,
      "outputs": [
        {
          "output_type": "execute_result",
          "data": {
            "text/html": [
              "<div>\n",
              "<style scoped>\n",
              "    .dataframe tbody tr th:only-of-type {\n",
              "        vertical-align: middle;\n",
              "    }\n",
              "\n",
              "    .dataframe tbody tr th {\n",
              "        vertical-align: top;\n",
              "    }\n",
              "\n",
              "    .dataframe thead th {\n",
              "        text-align: right;\n",
              "    }\n",
              "</style>\n",
              "<table border=\"1\" class=\"dataframe\">\n",
              "  <thead>\n",
              "    <tr style=\"text-align: right;\">\n",
              "      <th></th>\n",
              "      <th>state</th>\n",
              "      <th>abbreviation</th>\n",
              "    </tr>\n",
              "  </thead>\n",
              "  <tbody>\n",
              "    <tr>\n",
              "      <th>0</th>\n",
              "      <td>Alabama</td>\n",
              "      <td>AL</td>\n",
              "    </tr>\n",
              "  </tbody>\n",
              "</table>\n",
              "</div>"
            ],
            "text/plain": [
              "     state abbreviation\n",
              "0  Alabama           AL"
            ]
          },
          "metadata": {
            "tags": []
          },
          "execution_count": 63
        }
      ]
    },
    {
      "cell_type": "code",
      "metadata": {
        "colab": {
          "base_uri": "https://localhost:8080/",
          "height": 80
        },
        "id": "Kx4MLT4mBn8F",
        "outputId": "e10c2a47-9014-4c99-e501-0e0672e34833"
      },
      "source": [
        "df_7 = df_7.merge(abbrevs)\n",
        "df_7.head(1)"
      ],
      "execution_count": 64,
      "outputs": [
        {
          "output_type": "execute_result",
          "data": {
            "text/html": [
              "<div>\n",
              "<style scoped>\n",
              "    .dataframe tbody tr th:only-of-type {\n",
              "        vertical-align: middle;\n",
              "    }\n",
              "\n",
              "    .dataframe tbody tr th {\n",
              "        vertical-align: top;\n",
              "    }\n",
              "\n",
              "    .dataframe thead th {\n",
              "        text-align: right;\n",
              "    }\n",
              "</style>\n",
              "<table border=\"1\" class=\"dataframe\">\n",
              "  <thead>\n",
              "    <tr style=\"text-align: right;\">\n",
              "      <th></th>\n",
              "      <th>state</th>\n",
              "      <th>confirmed</th>\n",
              "      <th>deaths</th>\n",
              "      <th>POPULATION</th>\n",
              "      <th>confirmed_per_m</th>\n",
              "      <th>deaths_per_m</th>\n",
              "      <th>vax_rate</th>\n",
              "      <th>abbreviation</th>\n",
              "    </tr>\n",
              "  </thead>\n",
              "  <tbody>\n",
              "    <tr>\n",
              "      <th>0</th>\n",
              "      <td>Louisiana</td>\n",
              "      <td>15376</td>\n",
              "      <td>68.0</td>\n",
              "      <td>4648794</td>\n",
              "      <td>3307.524489</td>\n",
              "      <td>14.62745</td>\n",
              "      <td>36.43</td>\n",
              "      <td>LA</td>\n",
              "    </tr>\n",
              "  </tbody>\n",
              "</table>\n",
              "</div>"
            ],
            "text/plain": [
              "       state  confirmed  deaths  ...  deaths_per_m  vax_rate  abbreviation\n",
              "0  Louisiana      15376    68.0  ...      14.62745     36.43            LA\n",
              "\n",
              "[1 rows x 8 columns]"
            ]
          },
          "metadata": {
            "tags": []
          },
          "execution_count": 64
        }
      ]
    },
    {
      "cell_type": "code",
      "metadata": {
        "colab": {
          "base_uri": "https://localhost:8080/",
          "height": 542
        },
        "id": "gnU4rQXNBo_a",
        "outputId": "57bf364b-bcfe-4560-afcb-e90c12fbcc26"
      },
      "source": [
        "import plotly.express as px\n",
        "\n",
        "px.scatter_geo(df_7, \n",
        "               locations='abbreviation', \n",
        "               locationmode='USA-states',\n",
        "               color='confirmed_per_m', \n",
        "               size='vax_rate', \n",
        "               hover_name='state', \n",
        "               scope='usa'\n",
        "               )"
      ],
      "execution_count": 65,
      "outputs": [
        {
          "output_type": "display_data",
          "data": {
            "text/html": [
              "<html>\n",
              "<head><meta charset=\"utf-8\" /></head>\n",
              "<body>\n",
              "    <div>\n",
              "            <script src=\"https://cdnjs.cloudflare.com/ajax/libs/mathjax/2.7.5/MathJax.js?config=TeX-AMS-MML_SVG\"></script><script type=\"text/javascript\">if (window.MathJax) {MathJax.Hub.Config({SVG: {font: \"STIX-Web\"}});}</script>\n",
              "                <script type=\"text/javascript\">window.PlotlyConfig = {MathJaxConfig: 'local'};</script>\n",
              "        <script src=\"https://cdn.plot.ly/plotly-latest.min.js\"></script>    \n",
              "            <div id=\"330f75d5-3a92-4859-b448-2ca01e1e9064\" class=\"plotly-graph-div\" style=\"height:525px; width:100%;\"></div>\n",
              "            <script type=\"text/javascript\">\n",
              "                \n",
              "                    window.PLOTLYENV=window.PLOTLYENV || {};\n",
              "                    \n",
              "                if (document.getElementById(\"330f75d5-3a92-4859-b448-2ca01e1e9064\")) {\n",
              "                    Plotly.newPlot(\n",
              "                        '330f75d5-3a92-4859-b448-2ca01e1e9064',\n",
              "                        [{\"geo\": \"geo\", \"hoverlabel\": {\"namelength\": 0}, \"hovertemplate\": \"<b>%{hovertext}</b><br><br>vax_rate=%{marker.size}<br>abbreviation=%{location}<br>confirmed_per_m=%{marker.color}\", \"hovertext\": [\"Louisiana\", \"Arkansas\", \"Missouri\", \"Florida\", \"Nevada\", \"Mississippi\", \"Alaska\", \"Alabama\", \"Oklahoma\", \"Wyoming\", \"Kansas\", \"California\", \"Texas\", \"Arizona\", \"Utah\", \"Georgia\", \"Kentucky\", \"Tennessee\", \"Washington\", \"South Carolina\", \"North Carolina\", \"Hawaii\", \"Idaho\", \"Colorado\", \"Oregon\", \"Indiana\", \"New Mexico\", \"Illinois\", \"Montana\", \"Nebraska\", \"District of Columbia\", \"Iowa\", \"New Jersey\", \"Virginia\", \"Rhode Island\", \"West Virginia\", \"Massachusetts\", \"Ohio\", \"Connecticut\", \"Delaware\", \"Wisconsin\", \"Minnesota\", \"Maine\", \"Pennsylvania\", \"Maryland\", \"North Dakota\", \"South Dakota\", \"Michigan\", \"Vermont\", \"New Hampshire\"], \"legendgroup\": \"\", \"locationmode\": \"USA-states\", \"locations\": [\"LA\", \"AR\", \"MO\", \"FL\", \"NV\", \"MS\", \"AK\", \"AL\", \"OK\", \"WY\", \"KS\", \"CA\", \"TX\", \"AZ\", \"UT\", \"GA\", \"KY\", \"TN\", \"WA\", \"SC\", \"NC\", \"HI\", \"ID\", \"CO\", \"OR\", \"IN\", \"NM\", \"IL\", \"MT\", \"NE\", \"DC\", \"IA\", \"NJ\", \"VA\", \"RI\", \"WV\", \"MA\", \"OH\", \"CT\", \"DE\", \"WI\", \"MN\", \"ME\", \"PA\", \"MD\", \"ND\", \"SD\", \"MI\", \"VT\", \"NH\"], \"marker\": {\"color\": [3307.524489147078, 3011.461314253676, 2365.4859983693495, 2116.0981717952873, 1886.2680981093165, 1879.2741895651059, 1669.070255418327, 1617.7239896108347, 1547.9011597507285, 1185.294742716744, 1157.4447519216947, 1113.2251404837434, 1105.1224827416004, 1069.9687870815696, 979.7383496602263, 971.7989007313734, 960.0075923193125, 926.6127938752184, 892.0676889353534, 846.4249519394551, 770.2074087125923, 757.836866609411, 738.081714990781, 679.1420895140878, 624.0313229582594, 604.555496486374, 591.8460685158399, 567.3217764045121, 530.512416984631, 462.6738516383307, 446.3343199919518, 442.14549914898873, 437.50471449045784, 409.5825924586426, 404.01713863357253, 379.9911502795251, 376.49602764046676, 370.5161218571148, 361.5417216061428, 351.21446264187216, 336.28547786029003, 308.17613631527735, 302.7796210716762, 258.08489602670335, 227.10431250082704, 221.76673289049972, 221.5542938013404, 213.5807091260043, 189.1058977001197, 169.88904259802266], \"coloraxis\": \"coloraxis\", \"size\": [36.43, 35.7, 40.59, 48.15, 43.72, 34.02, 45.17, 33.92, 39.78, 36.27, 43.31, 52.12, 43.2, 44.78, 44.21, 38.03, 45.07, 38.68, 57.0, 40.15, 43.27, 53.18, 37.07, 53.85, 55.51, 43.8, 56.54, 48.01, 44.01, 48.94, 54.22, 49.26, 57.48, 53.92, 60.85, 38.91, 63.42, 46.08, 62.7, 52.11, 51.36, 53.35, 63.09, 51.66, 58.22, 39.79, 46.55, 48.5, 67.17, 57.9], \"sizemode\": \"area\", \"sizeref\": 0.167925}, \"name\": \"\", \"showlegend\": false, \"type\": \"scattergeo\"}],\n",
              "                        {\"coloraxis\": {\"colorbar\": {\"title\": {\"text\": \"confirmed_per_m\"}}, \"colorscale\": [[0.0, \"#0d0887\"], [0.1111111111111111, \"#46039f\"], [0.2222222222222222, \"#7201a8\"], [0.3333333333333333, \"#9c179e\"], [0.4444444444444444, \"#bd3786\"], [0.5555555555555556, \"#d8576b\"], [0.6666666666666666, \"#ed7953\"], [0.7777777777777778, \"#fb9f3a\"], [0.8888888888888888, \"#fdca26\"], [1.0, \"#f0f921\"]]}, \"geo\": {\"center\": {}, \"domain\": {\"x\": [0.0, 1.0], \"y\": [0.0, 1.0]}, \"scope\": \"usa\"}, \"legend\": {\"itemsizing\": \"constant\", \"tracegroupgap\": 0}, \"margin\": {\"t\": 60}, \"template\": {\"data\": {\"bar\": [{\"error_x\": {\"color\": \"#2a3f5f\"}, \"error_y\": {\"color\": \"#2a3f5f\"}, \"marker\": {\"line\": {\"color\": \"#E5ECF6\", \"width\": 0.5}}, \"type\": \"bar\"}], \"barpolar\": [{\"marker\": {\"line\": {\"color\": \"#E5ECF6\", \"width\": 0.5}}, \"type\": \"barpolar\"}], \"carpet\": [{\"aaxis\": {\"endlinecolor\": \"#2a3f5f\", \"gridcolor\": \"white\", \"linecolor\": \"white\", \"minorgridcolor\": \"white\", \"startlinecolor\": \"#2a3f5f\"}, \"baxis\": {\"endlinecolor\": \"#2a3f5f\", \"gridcolor\": \"white\", \"linecolor\": \"white\", \"minorgridcolor\": \"white\", \"startlinecolor\": \"#2a3f5f\"}, \"type\": \"carpet\"}], \"choropleth\": [{\"colorbar\": {\"outlinewidth\": 0, \"ticks\": \"\"}, \"type\": \"choropleth\"}], \"contour\": [{\"colorbar\": {\"outlinewidth\": 0, \"ticks\": \"\"}, \"colorscale\": [[0.0, \"#0d0887\"], [0.1111111111111111, \"#46039f\"], [0.2222222222222222, \"#7201a8\"], [0.3333333333333333, \"#9c179e\"], [0.4444444444444444, \"#bd3786\"], [0.5555555555555556, \"#d8576b\"], [0.6666666666666666, \"#ed7953\"], [0.7777777777777778, \"#fb9f3a\"], [0.8888888888888888, \"#fdca26\"], [1.0, \"#f0f921\"]], \"type\": \"contour\"}], \"contourcarpet\": [{\"colorbar\": {\"outlinewidth\": 0, \"ticks\": \"\"}, \"type\": \"contourcarpet\"}], \"heatmap\": [{\"colorbar\": {\"outlinewidth\": 0, \"ticks\": \"\"}, \"colorscale\": [[0.0, \"#0d0887\"], [0.1111111111111111, \"#46039f\"], [0.2222222222222222, \"#7201a8\"], [0.3333333333333333, \"#9c179e\"], [0.4444444444444444, \"#bd3786\"], [0.5555555555555556, \"#d8576b\"], [0.6666666666666666, \"#ed7953\"], [0.7777777777777778, \"#fb9f3a\"], [0.8888888888888888, \"#fdca26\"], [1.0, \"#f0f921\"]], \"type\": \"heatmap\"}], \"heatmapgl\": [{\"colorbar\": {\"outlinewidth\": 0, \"ticks\": \"\"}, \"colorscale\": [[0.0, \"#0d0887\"], [0.1111111111111111, \"#46039f\"], [0.2222222222222222, \"#7201a8\"], [0.3333333333333333, \"#9c179e\"], [0.4444444444444444, \"#bd3786\"], [0.5555555555555556, \"#d8576b\"], [0.6666666666666666, \"#ed7953\"], [0.7777777777777778, \"#fb9f3a\"], [0.8888888888888888, \"#fdca26\"], [1.0, \"#f0f921\"]], \"type\": \"heatmapgl\"}], \"histogram\": [{\"marker\": {\"colorbar\": {\"outlinewidth\": 0, \"ticks\": \"\"}}, \"type\": \"histogram\"}], \"histogram2d\": [{\"colorbar\": {\"outlinewidth\": 0, \"ticks\": \"\"}, \"colorscale\": [[0.0, \"#0d0887\"], [0.1111111111111111, \"#46039f\"], [0.2222222222222222, \"#7201a8\"], [0.3333333333333333, \"#9c179e\"], [0.4444444444444444, \"#bd3786\"], [0.5555555555555556, \"#d8576b\"], [0.6666666666666666, \"#ed7953\"], [0.7777777777777778, \"#fb9f3a\"], [0.8888888888888888, \"#fdca26\"], [1.0, \"#f0f921\"]], \"type\": \"histogram2d\"}], \"histogram2dcontour\": [{\"colorbar\": {\"outlinewidth\": 0, \"ticks\": \"\"}, \"colorscale\": [[0.0, \"#0d0887\"], [0.1111111111111111, \"#46039f\"], [0.2222222222222222, \"#7201a8\"], [0.3333333333333333, \"#9c179e\"], [0.4444444444444444, \"#bd3786\"], [0.5555555555555556, \"#d8576b\"], [0.6666666666666666, \"#ed7953\"], [0.7777777777777778, \"#fb9f3a\"], [0.8888888888888888, \"#fdca26\"], [1.0, \"#f0f921\"]], \"type\": \"histogram2dcontour\"}], \"mesh3d\": [{\"colorbar\": {\"outlinewidth\": 0, \"ticks\": \"\"}, \"type\": \"mesh3d\"}], \"parcoords\": [{\"line\": {\"colorbar\": {\"outlinewidth\": 0, \"ticks\": \"\"}}, \"type\": \"parcoords\"}], \"pie\": [{\"automargin\": true, \"type\": \"pie\"}], \"scatter\": [{\"marker\": {\"colorbar\": {\"outlinewidth\": 0, \"ticks\": \"\"}}, \"type\": \"scatter\"}], \"scatter3d\": [{\"line\": {\"colorbar\": {\"outlinewidth\": 0, \"ticks\": \"\"}}, \"marker\": {\"colorbar\": {\"outlinewidth\": 0, \"ticks\": \"\"}}, \"type\": \"scatter3d\"}], \"scattercarpet\": [{\"marker\": {\"colorbar\": {\"outlinewidth\": 0, \"ticks\": \"\"}}, \"type\": \"scattercarpet\"}], \"scattergeo\": [{\"marker\": {\"colorbar\": {\"outlinewidth\": 0, \"ticks\": \"\"}}, \"type\": \"scattergeo\"}], \"scattergl\": [{\"marker\": {\"colorbar\": {\"outlinewidth\": 0, \"ticks\": \"\"}}, \"type\": \"scattergl\"}], \"scattermapbox\": [{\"marker\": {\"colorbar\": {\"outlinewidth\": 0, \"ticks\": \"\"}}, \"type\": \"scattermapbox\"}], \"scatterpolar\": [{\"marker\": {\"colorbar\": {\"outlinewidth\": 0, \"ticks\": \"\"}}, \"type\": \"scatterpolar\"}], \"scatterpolargl\": [{\"marker\": {\"colorbar\": {\"outlinewidth\": 0, \"ticks\": \"\"}}, \"type\": \"scatterpolargl\"}], \"scatterternary\": [{\"marker\": {\"colorbar\": {\"outlinewidth\": 0, \"ticks\": \"\"}}, \"type\": \"scatterternary\"}], \"surface\": [{\"colorbar\": {\"outlinewidth\": 0, \"ticks\": \"\"}, \"colorscale\": [[0.0, \"#0d0887\"], [0.1111111111111111, \"#46039f\"], [0.2222222222222222, \"#7201a8\"], [0.3333333333333333, \"#9c179e\"], [0.4444444444444444, \"#bd3786\"], [0.5555555555555556, \"#d8576b\"], [0.6666666666666666, \"#ed7953\"], [0.7777777777777778, \"#fb9f3a\"], [0.8888888888888888, \"#fdca26\"], [1.0, \"#f0f921\"]], \"type\": \"surface\"}], \"table\": [{\"cells\": {\"fill\": {\"color\": \"#EBF0F8\"}, \"line\": {\"color\": \"white\"}}, \"header\": {\"fill\": {\"color\": \"#C8D4E3\"}, \"line\": {\"color\": \"white\"}}, \"type\": \"table\"}]}, \"layout\": {\"annotationdefaults\": {\"arrowcolor\": \"#2a3f5f\", \"arrowhead\": 0, \"arrowwidth\": 1}, \"coloraxis\": {\"colorbar\": {\"outlinewidth\": 0, \"ticks\": \"\"}}, \"colorscale\": {\"diverging\": [[0, \"#8e0152\"], [0.1, \"#c51b7d\"], [0.2, \"#de77ae\"], [0.3, \"#f1b6da\"], [0.4, \"#fde0ef\"], [0.5, \"#f7f7f7\"], [0.6, \"#e6f5d0\"], [0.7, \"#b8e186\"], [0.8, \"#7fbc41\"], [0.9, \"#4d9221\"], [1, \"#276419\"]], \"sequential\": [[0.0, \"#0d0887\"], [0.1111111111111111, \"#46039f\"], [0.2222222222222222, \"#7201a8\"], [0.3333333333333333, \"#9c179e\"], [0.4444444444444444, \"#bd3786\"], [0.5555555555555556, \"#d8576b\"], [0.6666666666666666, \"#ed7953\"], [0.7777777777777778, \"#fb9f3a\"], [0.8888888888888888, \"#fdca26\"], [1.0, \"#f0f921\"]], \"sequentialminus\": [[0.0, \"#0d0887\"], [0.1111111111111111, \"#46039f\"], [0.2222222222222222, \"#7201a8\"], [0.3333333333333333, \"#9c179e\"], [0.4444444444444444, \"#bd3786\"], [0.5555555555555556, \"#d8576b\"], [0.6666666666666666, \"#ed7953\"], [0.7777777777777778, \"#fb9f3a\"], [0.8888888888888888, \"#fdca26\"], [1.0, \"#f0f921\"]]}, \"colorway\": [\"#636efa\", \"#EF553B\", \"#00cc96\", \"#ab63fa\", \"#FFA15A\", \"#19d3f3\", \"#FF6692\", \"#B6E880\", \"#FF97FF\", \"#FECB52\"], \"font\": {\"color\": \"#2a3f5f\"}, \"geo\": {\"bgcolor\": \"white\", \"lakecolor\": \"white\", \"landcolor\": \"#E5ECF6\", \"showlakes\": true, \"showland\": true, \"subunitcolor\": \"white\"}, \"hoverlabel\": {\"align\": \"left\"}, \"hovermode\": \"closest\", \"mapbox\": {\"style\": \"light\"}, \"paper_bgcolor\": \"white\", \"plot_bgcolor\": \"#E5ECF6\", \"polar\": {\"angularaxis\": {\"gridcolor\": \"white\", \"linecolor\": \"white\", \"ticks\": \"\"}, \"bgcolor\": \"#E5ECF6\", \"radialaxis\": {\"gridcolor\": \"white\", \"linecolor\": \"white\", \"ticks\": \"\"}}, \"scene\": {\"xaxis\": {\"backgroundcolor\": \"#E5ECF6\", \"gridcolor\": \"white\", \"gridwidth\": 2, \"linecolor\": \"white\", \"showbackground\": true, \"ticks\": \"\", \"zerolinecolor\": \"white\"}, \"yaxis\": {\"backgroundcolor\": \"#E5ECF6\", \"gridcolor\": \"white\", \"gridwidth\": 2, \"linecolor\": \"white\", \"showbackground\": true, \"ticks\": \"\", \"zerolinecolor\": \"white\"}, \"zaxis\": {\"backgroundcolor\": \"#E5ECF6\", \"gridcolor\": \"white\", \"gridwidth\": 2, \"linecolor\": \"white\", \"showbackground\": true, \"ticks\": \"\", \"zerolinecolor\": \"white\"}}, \"shapedefaults\": {\"line\": {\"color\": \"#2a3f5f\"}}, \"ternary\": {\"aaxis\": {\"gridcolor\": \"white\", \"linecolor\": \"white\", \"ticks\": \"\"}, \"baxis\": {\"gridcolor\": \"white\", \"linecolor\": \"white\", \"ticks\": \"\"}, \"bgcolor\": \"#E5ECF6\", \"caxis\": {\"gridcolor\": \"white\", \"linecolor\": \"white\", \"ticks\": \"\"}}, \"title\": {\"x\": 0.05}, \"xaxis\": {\"automargin\": true, \"gridcolor\": \"white\", \"linecolor\": \"white\", \"ticks\": \"\", \"title\": {\"standoff\": 15}, \"zerolinecolor\": \"white\", \"zerolinewidth\": 2}, \"yaxis\": {\"automargin\": true, \"gridcolor\": \"white\", \"linecolor\": \"white\", \"ticks\": \"\", \"title\": {\"standoff\": 15}, \"zerolinecolor\": \"white\", \"zerolinewidth\": 2}}}},\n",
              "                        {\"responsive\": true}\n",
              "                    ).then(function(){\n",
              "                            \n",
              "var gd = document.getElementById('330f75d5-3a92-4859-b448-2ca01e1e9064');\n",
              "var x = new MutationObserver(function (mutations, observer) {{\n",
              "        var display = window.getComputedStyle(gd).display;\n",
              "        if (!display || display === 'none') {{\n",
              "            console.log([gd, 'removed!']);\n",
              "            Plotly.purge(gd);\n",
              "            observer.disconnect();\n",
              "        }}\n",
              "}});\n",
              "\n",
              "// Listen for the removal of the full notebook cells\n",
              "var notebookContainer = gd.closest('#notebook-container');\n",
              "if (notebookContainer) {{\n",
              "    x.observe(notebookContainer, {childList: true});\n",
              "}}\n",
              "\n",
              "// Listen for the clearing of the current output cell\n",
              "var outputEl = gd.closest('.output');\n",
              "if (outputEl) {{\n",
              "    x.observe(outputEl, {childList: true});\n",
              "}}\n",
              "\n",
              "                        })\n",
              "                };\n",
              "                \n",
              "            </script>\n",
              "        </div>\n",
              "</body>\n",
              "</html>"
            ]
          },
          "metadata": {
            "tags": []
          }
        }
      ]
    },
    {
      "cell_type": "code",
      "metadata": {
        "colab": {
          "base_uri": "https://localhost:8080/",
          "height": 542
        },
        "id": "HnDlaG2tBqkS",
        "outputId": "57e574d2-e7c1-43be-d92d-21572199f867"
      },
      "source": [
        "import plotly.express as px\n",
        "\n",
        "px.choropleth(df_7, \n",
        "               locations='abbreviation', \n",
        "               locationmode='USA-states',\n",
        "               color='confirmed_per_m', \n",
        "               hover_name='state', \n",
        "               scope='usa'\n",
        "               )"
      ],
      "execution_count": 66,
      "outputs": [
        {
          "output_type": "display_data",
          "data": {
            "text/html": [
              "<html>\n",
              "<head><meta charset=\"utf-8\" /></head>\n",
              "<body>\n",
              "    <div>\n",
              "            <script src=\"https://cdnjs.cloudflare.com/ajax/libs/mathjax/2.7.5/MathJax.js?config=TeX-AMS-MML_SVG\"></script><script type=\"text/javascript\">if (window.MathJax) {MathJax.Hub.Config({SVG: {font: \"STIX-Web\"}});}</script>\n",
              "                <script type=\"text/javascript\">window.PlotlyConfig = {MathJaxConfig: 'local'};</script>\n",
              "        <script src=\"https://cdn.plot.ly/plotly-latest.min.js\"></script>    \n",
              "            <div id=\"7f41c3fc-38bd-4229-a0da-56627dab6fc5\" class=\"plotly-graph-div\" style=\"height:525px; width:100%;\"></div>\n",
              "            <script type=\"text/javascript\">\n",
              "                \n",
              "                    window.PLOTLYENV=window.PLOTLYENV || {};\n",
              "                    \n",
              "                if (document.getElementById(\"7f41c3fc-38bd-4229-a0da-56627dab6fc5\")) {\n",
              "                    Plotly.newPlot(\n",
              "                        '7f41c3fc-38bd-4229-a0da-56627dab6fc5',\n",
              "                        [{\"coloraxis\": \"coloraxis\", \"geo\": \"geo\", \"hoverlabel\": {\"namelength\": 0}, \"hovertemplate\": \"<b>%{hovertext}</b><br><br>abbreviation=%{location}<br>confirmed_per_m=%{z}\", \"hovertext\": [\"Louisiana\", \"Arkansas\", \"Missouri\", \"Florida\", \"Nevada\", \"Mississippi\", \"Alaska\", \"Alabama\", \"Oklahoma\", \"Wyoming\", \"Kansas\", \"California\", \"Texas\", \"Arizona\", \"Utah\", \"Georgia\", \"Kentucky\", \"Tennessee\", \"Washington\", \"South Carolina\", \"North Carolina\", \"Hawaii\", \"Idaho\", \"Colorado\", \"Oregon\", \"Indiana\", \"New Mexico\", \"Illinois\", \"Montana\", \"Nebraska\", \"District of Columbia\", \"Iowa\", \"New Jersey\", \"Virginia\", \"Rhode Island\", \"West Virginia\", \"Massachusetts\", \"Ohio\", \"Connecticut\", \"Delaware\", \"Wisconsin\", \"Minnesota\", \"Maine\", \"Pennsylvania\", \"Maryland\", \"North Dakota\", \"South Dakota\", \"Michigan\", \"Vermont\", \"New Hampshire\"], \"locationmode\": \"USA-states\", \"locations\": [\"LA\", \"AR\", \"MO\", \"FL\", \"NV\", \"MS\", \"AK\", \"AL\", \"OK\", \"WY\", \"KS\", \"CA\", \"TX\", \"AZ\", \"UT\", \"GA\", \"KY\", \"TN\", \"WA\", \"SC\", \"NC\", \"HI\", \"ID\", \"CO\", \"OR\", \"IN\", \"NM\", \"IL\", \"MT\", \"NE\", \"DC\", \"IA\", \"NJ\", \"VA\", \"RI\", \"WV\", \"MA\", \"OH\", \"CT\", \"DE\", \"WI\", \"MN\", \"ME\", \"PA\", \"MD\", \"ND\", \"SD\", \"MI\", \"VT\", \"NH\"], \"name\": \"\", \"type\": \"choropleth\", \"z\": [3307.524489147078, 3011.461314253676, 2365.4859983693495, 2116.0981717952873, 1886.2680981093165, 1879.2741895651059, 1669.070255418327, 1617.7239896108347, 1547.9011597507285, 1185.294742716744, 1157.4447519216947, 1113.2251404837434, 1105.1224827416004, 1069.9687870815696, 979.7383496602263, 971.7989007313734, 960.0075923193125, 926.6127938752184, 892.0676889353534, 846.4249519394551, 770.2074087125923, 757.836866609411, 738.081714990781, 679.1420895140878, 624.0313229582594, 604.555496486374, 591.8460685158399, 567.3217764045121, 530.512416984631, 462.6738516383307, 446.3343199919518, 442.14549914898873, 437.50471449045784, 409.5825924586426, 404.01713863357253, 379.9911502795251, 376.49602764046676, 370.5161218571148, 361.5417216061428, 351.21446264187216, 336.28547786029003, 308.17613631527735, 302.7796210716762, 258.08489602670335, 227.10431250082704, 221.76673289049972, 221.5542938013404, 213.5807091260043, 189.1058977001197, 169.88904259802266]}],\n",
              "                        {\"coloraxis\": {\"colorbar\": {\"title\": {\"text\": \"confirmed_per_m\"}}, \"colorscale\": [[0.0, \"#0d0887\"], [0.1111111111111111, \"#46039f\"], [0.2222222222222222, \"#7201a8\"], [0.3333333333333333, \"#9c179e\"], [0.4444444444444444, \"#bd3786\"], [0.5555555555555556, \"#d8576b\"], [0.6666666666666666, \"#ed7953\"], [0.7777777777777778, \"#fb9f3a\"], [0.8888888888888888, \"#fdca26\"], [1.0, \"#f0f921\"]]}, \"geo\": {\"center\": {}, \"domain\": {\"x\": [0.0, 1.0], \"y\": [0.0, 1.0]}, \"scope\": \"usa\"}, \"legend\": {\"tracegroupgap\": 0}, \"margin\": {\"t\": 60}, \"template\": {\"data\": {\"bar\": [{\"error_x\": {\"color\": \"#2a3f5f\"}, \"error_y\": {\"color\": \"#2a3f5f\"}, \"marker\": {\"line\": {\"color\": \"#E5ECF6\", \"width\": 0.5}}, \"type\": \"bar\"}], \"barpolar\": [{\"marker\": {\"line\": {\"color\": \"#E5ECF6\", \"width\": 0.5}}, \"type\": \"barpolar\"}], \"carpet\": [{\"aaxis\": {\"endlinecolor\": \"#2a3f5f\", \"gridcolor\": \"white\", \"linecolor\": \"white\", \"minorgridcolor\": \"white\", \"startlinecolor\": \"#2a3f5f\"}, \"baxis\": {\"endlinecolor\": \"#2a3f5f\", \"gridcolor\": \"white\", \"linecolor\": \"white\", \"minorgridcolor\": \"white\", \"startlinecolor\": \"#2a3f5f\"}, \"type\": \"carpet\"}], \"choropleth\": [{\"colorbar\": {\"outlinewidth\": 0, \"ticks\": \"\"}, \"type\": \"choropleth\"}], \"contour\": [{\"colorbar\": {\"outlinewidth\": 0, \"ticks\": \"\"}, \"colorscale\": [[0.0, \"#0d0887\"], [0.1111111111111111, \"#46039f\"], [0.2222222222222222, \"#7201a8\"], [0.3333333333333333, \"#9c179e\"], [0.4444444444444444, \"#bd3786\"], [0.5555555555555556, \"#d8576b\"], [0.6666666666666666, \"#ed7953\"], [0.7777777777777778, \"#fb9f3a\"], [0.8888888888888888, \"#fdca26\"], [1.0, \"#f0f921\"]], \"type\": \"contour\"}], \"contourcarpet\": [{\"colorbar\": {\"outlinewidth\": 0, \"ticks\": \"\"}, \"type\": \"contourcarpet\"}], \"heatmap\": [{\"colorbar\": {\"outlinewidth\": 0, \"ticks\": \"\"}, \"colorscale\": [[0.0, \"#0d0887\"], [0.1111111111111111, \"#46039f\"], [0.2222222222222222, \"#7201a8\"], [0.3333333333333333, \"#9c179e\"], [0.4444444444444444, \"#bd3786\"], [0.5555555555555556, \"#d8576b\"], [0.6666666666666666, \"#ed7953\"], [0.7777777777777778, \"#fb9f3a\"], [0.8888888888888888, \"#fdca26\"], [1.0, \"#f0f921\"]], \"type\": \"heatmap\"}], \"heatmapgl\": [{\"colorbar\": {\"outlinewidth\": 0, \"ticks\": \"\"}, \"colorscale\": [[0.0, \"#0d0887\"], [0.1111111111111111, \"#46039f\"], [0.2222222222222222, \"#7201a8\"], [0.3333333333333333, \"#9c179e\"], [0.4444444444444444, \"#bd3786\"], [0.5555555555555556, \"#d8576b\"], [0.6666666666666666, \"#ed7953\"], [0.7777777777777778, \"#fb9f3a\"], [0.8888888888888888, \"#fdca26\"], [1.0, \"#f0f921\"]], \"type\": \"heatmapgl\"}], \"histogram\": [{\"marker\": {\"colorbar\": {\"outlinewidth\": 0, \"ticks\": \"\"}}, \"type\": \"histogram\"}], \"histogram2d\": [{\"colorbar\": {\"outlinewidth\": 0, \"ticks\": \"\"}, \"colorscale\": [[0.0, \"#0d0887\"], [0.1111111111111111, \"#46039f\"], [0.2222222222222222, \"#7201a8\"], [0.3333333333333333, \"#9c179e\"], [0.4444444444444444, \"#bd3786\"], [0.5555555555555556, \"#d8576b\"], [0.6666666666666666, \"#ed7953\"], [0.7777777777777778, \"#fb9f3a\"], [0.8888888888888888, \"#fdca26\"], [1.0, \"#f0f921\"]], \"type\": \"histogram2d\"}], \"histogram2dcontour\": [{\"colorbar\": {\"outlinewidth\": 0, \"ticks\": \"\"}, \"colorscale\": [[0.0, \"#0d0887\"], [0.1111111111111111, \"#46039f\"], [0.2222222222222222, \"#7201a8\"], [0.3333333333333333, \"#9c179e\"], [0.4444444444444444, \"#bd3786\"], [0.5555555555555556, \"#d8576b\"], [0.6666666666666666, \"#ed7953\"], [0.7777777777777778, \"#fb9f3a\"], [0.8888888888888888, \"#fdca26\"], [1.0, \"#f0f921\"]], \"type\": \"histogram2dcontour\"}], \"mesh3d\": [{\"colorbar\": {\"outlinewidth\": 0, \"ticks\": \"\"}, \"type\": \"mesh3d\"}], \"parcoords\": [{\"line\": {\"colorbar\": {\"outlinewidth\": 0, \"ticks\": \"\"}}, \"type\": \"parcoords\"}], \"pie\": [{\"automargin\": true, \"type\": \"pie\"}], \"scatter\": [{\"marker\": {\"colorbar\": {\"outlinewidth\": 0, \"ticks\": \"\"}}, \"type\": \"scatter\"}], \"scatter3d\": [{\"line\": {\"colorbar\": {\"outlinewidth\": 0, \"ticks\": \"\"}}, \"marker\": {\"colorbar\": {\"outlinewidth\": 0, \"ticks\": \"\"}}, \"type\": \"scatter3d\"}], \"scattercarpet\": [{\"marker\": {\"colorbar\": {\"outlinewidth\": 0, \"ticks\": \"\"}}, \"type\": \"scattercarpet\"}], \"scattergeo\": [{\"marker\": {\"colorbar\": {\"outlinewidth\": 0, \"ticks\": \"\"}}, \"type\": \"scattergeo\"}], \"scattergl\": [{\"marker\": {\"colorbar\": {\"outlinewidth\": 0, \"ticks\": \"\"}}, \"type\": \"scattergl\"}], \"scattermapbox\": [{\"marker\": {\"colorbar\": {\"outlinewidth\": 0, \"ticks\": \"\"}}, \"type\": \"scattermapbox\"}], \"scatterpolar\": [{\"marker\": {\"colorbar\": {\"outlinewidth\": 0, \"ticks\": \"\"}}, \"type\": \"scatterpolar\"}], \"scatterpolargl\": [{\"marker\": {\"colorbar\": {\"outlinewidth\": 0, \"ticks\": \"\"}}, \"type\": \"scatterpolargl\"}], \"scatterternary\": [{\"marker\": {\"colorbar\": {\"outlinewidth\": 0, \"ticks\": \"\"}}, \"type\": \"scatterternary\"}], \"surface\": [{\"colorbar\": {\"outlinewidth\": 0, \"ticks\": \"\"}, \"colorscale\": [[0.0, \"#0d0887\"], [0.1111111111111111, \"#46039f\"], [0.2222222222222222, \"#7201a8\"], [0.3333333333333333, \"#9c179e\"], [0.4444444444444444, \"#bd3786\"], [0.5555555555555556, \"#d8576b\"], [0.6666666666666666, \"#ed7953\"], [0.7777777777777778, \"#fb9f3a\"], [0.8888888888888888, \"#fdca26\"], [1.0, \"#f0f921\"]], \"type\": \"surface\"}], \"table\": [{\"cells\": {\"fill\": {\"color\": \"#EBF0F8\"}, \"line\": {\"color\": \"white\"}}, \"header\": {\"fill\": {\"color\": \"#C8D4E3\"}, \"line\": {\"color\": \"white\"}}, \"type\": \"table\"}]}, \"layout\": {\"annotationdefaults\": {\"arrowcolor\": \"#2a3f5f\", \"arrowhead\": 0, \"arrowwidth\": 1}, \"coloraxis\": {\"colorbar\": {\"outlinewidth\": 0, \"ticks\": \"\"}}, \"colorscale\": {\"diverging\": [[0, \"#8e0152\"], [0.1, \"#c51b7d\"], [0.2, \"#de77ae\"], [0.3, \"#f1b6da\"], [0.4, \"#fde0ef\"], [0.5, \"#f7f7f7\"], [0.6, \"#e6f5d0\"], [0.7, \"#b8e186\"], [0.8, \"#7fbc41\"], [0.9, \"#4d9221\"], [1, \"#276419\"]], \"sequential\": [[0.0, \"#0d0887\"], [0.1111111111111111, \"#46039f\"], [0.2222222222222222, \"#7201a8\"], [0.3333333333333333, \"#9c179e\"], [0.4444444444444444, \"#bd3786\"], [0.5555555555555556, \"#d8576b\"], [0.6666666666666666, \"#ed7953\"], [0.7777777777777778, \"#fb9f3a\"], [0.8888888888888888, \"#fdca26\"], [1.0, \"#f0f921\"]], \"sequentialminus\": [[0.0, \"#0d0887\"], [0.1111111111111111, \"#46039f\"], [0.2222222222222222, \"#7201a8\"], [0.3333333333333333, \"#9c179e\"], [0.4444444444444444, \"#bd3786\"], [0.5555555555555556, \"#d8576b\"], [0.6666666666666666, \"#ed7953\"], [0.7777777777777778, \"#fb9f3a\"], [0.8888888888888888, \"#fdca26\"], [1.0, \"#f0f921\"]]}, \"colorway\": [\"#636efa\", \"#EF553B\", \"#00cc96\", \"#ab63fa\", \"#FFA15A\", \"#19d3f3\", \"#FF6692\", \"#B6E880\", \"#FF97FF\", \"#FECB52\"], \"font\": {\"color\": \"#2a3f5f\"}, \"geo\": {\"bgcolor\": \"white\", \"lakecolor\": \"white\", \"landcolor\": \"#E5ECF6\", \"showlakes\": true, \"showland\": true, \"subunitcolor\": \"white\"}, \"hoverlabel\": {\"align\": \"left\"}, \"hovermode\": \"closest\", \"mapbox\": {\"style\": \"light\"}, \"paper_bgcolor\": \"white\", \"plot_bgcolor\": \"#E5ECF6\", \"polar\": {\"angularaxis\": {\"gridcolor\": \"white\", \"linecolor\": \"white\", \"ticks\": \"\"}, \"bgcolor\": \"#E5ECF6\", \"radialaxis\": {\"gridcolor\": \"white\", \"linecolor\": \"white\", \"ticks\": \"\"}}, \"scene\": {\"xaxis\": {\"backgroundcolor\": \"#E5ECF6\", \"gridcolor\": \"white\", \"gridwidth\": 2, \"linecolor\": \"white\", \"showbackground\": true, \"ticks\": \"\", \"zerolinecolor\": \"white\"}, \"yaxis\": {\"backgroundcolor\": \"#E5ECF6\", \"gridcolor\": \"white\", \"gridwidth\": 2, \"linecolor\": \"white\", \"showbackground\": true, \"ticks\": \"\", \"zerolinecolor\": \"white\"}, \"zaxis\": {\"backgroundcolor\": \"#E5ECF6\", \"gridcolor\": \"white\", \"gridwidth\": 2, \"linecolor\": \"white\", \"showbackground\": true, \"ticks\": \"\", \"zerolinecolor\": \"white\"}}, \"shapedefaults\": {\"line\": {\"color\": \"#2a3f5f\"}}, \"ternary\": {\"aaxis\": {\"gridcolor\": \"white\", \"linecolor\": \"white\", \"ticks\": \"\"}, \"baxis\": {\"gridcolor\": \"white\", \"linecolor\": \"white\", \"ticks\": \"\"}, \"bgcolor\": \"#E5ECF6\", \"caxis\": {\"gridcolor\": \"white\", \"linecolor\": \"white\", \"ticks\": \"\"}}, \"title\": {\"x\": 0.05}, \"xaxis\": {\"automargin\": true, \"gridcolor\": \"white\", \"linecolor\": \"white\", \"ticks\": \"\", \"title\": {\"standoff\": 15}, \"zerolinecolor\": \"white\", \"zerolinewidth\": 2}, \"yaxis\": {\"automargin\": true, \"gridcolor\": \"white\", \"linecolor\": \"white\", \"ticks\": \"\", \"title\": {\"standoff\": 15}, \"zerolinecolor\": \"white\", \"zerolinewidth\": 2}}}},\n",
              "                        {\"responsive\": true}\n",
              "                    ).then(function(){\n",
              "                            \n",
              "var gd = document.getElementById('7f41c3fc-38bd-4229-a0da-56627dab6fc5');\n",
              "var x = new MutationObserver(function (mutations, observer) {{\n",
              "        var display = window.getComputedStyle(gd).display;\n",
              "        if (!display || display === 'none') {{\n",
              "            console.log([gd, 'removed!']);\n",
              "            Plotly.purge(gd);\n",
              "            observer.disconnect();\n",
              "        }}\n",
              "}});\n",
              "\n",
              "// Listen for the removal of the full notebook cells\n",
              "var notebookContainer = gd.closest('#notebook-container');\n",
              "if (notebookContainer) {{\n",
              "    x.observe(notebookContainer, {childList: true});\n",
              "}}\n",
              "\n",
              "// Listen for the clearing of the current output cell\n",
              "var outputEl = gd.closest('.output');\n",
              "if (outputEl) {{\n",
              "    x.observe(outputEl, {childList: true});\n",
              "}}\n",
              "\n",
              "                        })\n",
              "                };\n",
              "                \n",
              "            </script>\n",
              "        </div>\n",
              "</body>\n",
              "</html>"
            ]
          },
          "metadata": {
            "tags": []
          }
        }
      ]
    },
    {
      "cell_type": "markdown",
      "metadata": {
        "id": "FZ_UzH-5BuT-"
      },
      "source": [
        "# COVID-19 Mortality"
      ]
    },
    {
      "cell_type": "code",
      "metadata": {
        "colab": {
          "base_uri": "https://localhost:8080/",
          "height": 382
        },
        "id": "aC47oMnVBsEb",
        "outputId": "c0b71e2e-8e9d-4603-f559-a4e5ec29f781"
      },
      "source": [
        "sns.lmplot(x=\"deaths_per_m\", y=\"vax_rate\", data=df_7,\n",
        "           lowess=True);"
      ],
      "execution_count": 67,
      "outputs": [
        {
          "output_type": "display_data",
          "data": {
            "image/png": "[encoded data removed]",
            "text/plain": [
              "<Figure size 360x360 with 1 Axes>"
            ]
          },
          "metadata": {
            "tags": []
          }
        }
      ]
    },
    {
      "cell_type": "code",
      "metadata": {
        "colab": {
          "base_uri": "https://localhost:8080/"
        },
        "id": "1fiNsr-fBxLv",
        "outputId": "a3fcd3e6-b499-454b-fc8c-d9cd7de5db08"
      },
      "source": [
        "# Correlation\n",
        "df_7['deaths_per_m'].corr(df_7['vax_rate'])"
      ],
      "execution_count": 68,
      "outputs": [
        {
          "output_type": "execute_result",
          "data": {
            "text/plain": [
              "-0.4578667173104185"
            ]
          },
          "metadata": {
            "tags": []
          },
          "execution_count": 68
        }
      ]
    },
    {
      "cell_type": "code",
      "metadata": {
        "id": "M_iticy5BygT"
      },
      "source": [
        ""
      ],
      "execution_count": null,
      "outputs": []
    }
  ]
}